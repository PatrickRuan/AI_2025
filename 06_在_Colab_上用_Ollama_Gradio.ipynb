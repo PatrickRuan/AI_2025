{
  "nbformat": 4,
  "nbformat_minor": 0,
  "metadata": {
    "colab": {
      "provenance": [],
      "gpuType": "T4",
      "include_colab_link": true
    },
    "kernelspec": {
      "name": "python3",
      "display_name": "Python 3"
    },
    "language_info": {
      "name": "python"
    },
    "accelerator": "GPU"
  },
  "cells": [
    {
      "cell_type": "markdown",
      "metadata": {
        "id": "view-in-github",
        "colab_type": "text"
      },
      "source": [
        "<a href=\"https://colab.research.google.com/github/PatrickRuan/AI_2025/blob/main/06_%E5%9C%A8_Colab_%E4%B8%8A%E7%94%A8_Ollama_Gradio.ipynb\" target=\"_parent\"><img src=\"https://colab.research.google.com/assets/colab-badge.svg\" alt=\"Open In Colab\"/></a>"
      ]
    },
    {
      "cell_type": "markdown",
      "source": [
        "# 這個程式是從 蔡炎龍的 github 抓下來的\n",
        "# 當然其中的 aisuite 又是從吳恩達老師的 github 來的"
      ],
      "metadata": {
        "id": "6lsRRZe5t7ZC"
      }
    },
    {
      "cell_type": "markdown",
      "metadata": {
        "id": "view-in-github"
      },
      "source": [
        "<a href=\"https://colab.research.google.com/github/yenlung/AI-Demo/blob/master/%E5%9C%A8_Colab_%E4%B8%8A%E7%94%A8_Ollama.ipynb\" target=\"_parent\"><img src=\"https://colab.research.google.com/assets/colab-badge.svg\" alt=\"Open In Colab\"/></a>"
      ]
    },
    {
      "cell_type": "markdown",
      "source": [
        "[Ollama](https://ollama.com/) 可以讓我們在自己的機器上跑開源的大型語言模型, 並且用 API 的方式呼叫。這裡我們介紹在 Colab 上跑, 並且分別用 OpenAI 的 API, 及 [`aisuite` 套件](https://github.com/andrewyng/aisuite) 來使用 Ollama 提供的大型語言模型。"
      ],
      "metadata": {
        "id": "w2ZaP8HOa2-G"
      }
    },
    {
      "cell_type": "markdown",
      "source": [
        "### 1. 安裝並執行 Ollama\n",
        "\n",
        "首先是到官網抓下安裝程式, 並且安裝。"
      ],
      "metadata": {
        "id": "o_m1Lr5Vbi7x"
      }
    },
    {
      "cell_type": "code",
      "source": [
        "!curl -fsSL https://ollama.ai/install.sh | sh"
      ],
      "metadata": {
        "colab": {
          "base_uri": "https://localhost:8080/"
        },
        "id": "GYy1Nb7hH6Za",
        "outputId": "970dda28-a9f2-4c5b-b12b-c97b00008cc3"
      },
      "execution_count": null,
      "outputs": [
        {
          "output_type": "stream",
          "name": "stdout",
          "text": [
            ">>> Installing ollama to /usr/local\n",
            ">>> Downloading Linux amd64 bundle\n",
            "#######                                                                                         8.5%"
          ]
        }
      ]
    },
    {
      "cell_type": "markdown",
      "source": [
        "因為我們要用 API 的方式呼叫, 所以需要跑 Ollama Server, 這裡我們要求放在背景執行。\n",
        "\n",
        "\n",
        "\n",
        "[有一個bug](https://chatgpt.com/share/679ca100-ba20-8009-9453-93999cb3316c)"
      ],
      "metadata": {
        "id": "cz0sXeelbtrL"
      }
    },
    {
      "cell_type": "code",
      "source": [
        "#!nohup ollama serve &\n",
        "!nohup ollama serve > /dev/null 2>&1 &"
      ],
      "metadata": {
        "id": "8522mlhhQjFF"
      },
      "execution_count": null,
      "outputs": []
    },
    {
      "cell_type": "markdown",
      "source": [
        "建議先把會用到的模型抓下來, 這裡以 Llama 3.2 示範, 預設是 Llama 3.2 3B 模型。"
      ],
      "metadata": {
        "id": "nH1gAWqgb6lJ"
      }
    },
    {
      "cell_type": "markdown",
      "source": [
        "# 以下這一格可能因為伺服器還沒準備好，導致連不上。\n",
        "# 所以如果發生：**could not connect to ollama app, is it running?**\n",
        "# 務必重跑"
      ],
      "metadata": {
        "id": "EVtJW1jzQtIL"
      }
    },
    {
      "cell_type": "code",
      "source": [
        "!ollama pull llama3.2\n",
        "# 我比較常用 ollama run llama3.2: 但是這裡不行，為什麼？"
      ],
      "metadata": {
        "id": "RACuI7baNspA"
      },
      "execution_count": null,
      "outputs": []
    },
    {
      "cell_type": "markdown",
      "source": [
        "### 2. 用 OpenAI API 使用\n",
        "\n",
        "因為 ChatGPT 大概是最早紅的大型語言模型, 因此許多大型語言模型, 都和 OpenAI API 相容, Ollama 也不例外。"
      ],
      "metadata": {
        "id": "DZXJhweHcLTu"
      }
    },
    {
      "cell_type": "code",
      "source": [
        "!pip install gradio"
      ],
      "metadata": {
        "colab": {
          "base_uri": "https://localhost:8080/"
        },
        "id": "XfQoCyoozX2H",
        "outputId": "8f106d12-cfae-486b-ced6-ecf6c422b1c4"
      },
      "execution_count": null,
      "outputs": [
        {
          "output_type": "stream",
          "name": "stdout",
          "text": [
            "Requirement already satisfied: gradio in /usr/local/lib/python3.11/dist-packages (5.20.1)\n",
            "Requirement already satisfied: aiofiles<24.0,>=22.0 in /usr/local/lib/python3.11/dist-packages (from gradio) (23.2.1)\n",
            "Requirement already satisfied: anyio<5.0,>=3.0 in /usr/local/lib/python3.11/dist-packages (from gradio) (3.7.1)\n",
            "Requirement already satisfied: fastapi<1.0,>=0.115.2 in /usr/local/lib/python3.11/dist-packages (from gradio) (0.115.11)\n",
            "Requirement already satisfied: ffmpy in /usr/local/lib/python3.11/dist-packages (from gradio) (0.5.0)\n",
            "Requirement already satisfied: gradio-client==1.7.2 in /usr/local/lib/python3.11/dist-packages (from gradio) (1.7.2)\n",
            "Requirement already satisfied: groovy~=0.1 in /usr/local/lib/python3.11/dist-packages (from gradio) (0.1.2)\n",
            "Requirement already satisfied: httpx>=0.24.1 in /usr/local/lib/python3.11/dist-packages (from gradio) (0.28.1)\n",
            "Requirement already satisfied: huggingface-hub>=0.28.1 in /usr/local/lib/python3.11/dist-packages (from gradio) (0.28.1)\n",
            "Requirement already satisfied: jinja2<4.0 in /usr/local/lib/python3.11/dist-packages (from gradio) (3.1.6)\n",
            "Requirement already satisfied: markupsafe~=2.0 in /usr/local/lib/python3.11/dist-packages (from gradio) (2.1.5)\n",
            "Requirement already satisfied: numpy<3.0,>=1.0 in /usr/local/lib/python3.11/dist-packages (from gradio) (1.26.4)\n",
            "Requirement already satisfied: orjson~=3.0 in /usr/local/lib/python3.11/dist-packages (from gradio) (3.10.15)\n",
            "Requirement already satisfied: packaging in /usr/local/lib/python3.11/dist-packages (from gradio) (24.2)\n",
            "Requirement already satisfied: pandas<3.0,>=1.0 in /usr/local/lib/python3.11/dist-packages (from gradio) (2.2.2)\n",
            "Requirement already satisfied: pillow<12.0,>=8.0 in /usr/local/lib/python3.11/dist-packages (from gradio) (11.1.0)\n",
            "Requirement already satisfied: pydantic>=2.0 in /usr/local/lib/python3.11/dist-packages (from gradio) (2.10.6)\n",
            "Requirement already satisfied: pydub in /usr/local/lib/python3.11/dist-packages (from gradio) (0.25.1)\n",
            "Requirement already satisfied: python-multipart>=0.0.18 in /usr/local/lib/python3.11/dist-packages (from gradio) (0.0.20)\n",
            "Requirement already satisfied: pyyaml<7.0,>=5.0 in /usr/local/lib/python3.11/dist-packages (from gradio) (6.0.2)\n",
            "Requirement already satisfied: ruff>=0.9.3 in /usr/local/lib/python3.11/dist-packages (from gradio) (0.9.10)\n",
            "Requirement already satisfied: safehttpx<0.2.0,>=0.1.6 in /usr/local/lib/python3.11/dist-packages (from gradio) (0.1.6)\n",
            "Requirement already satisfied: semantic-version~=2.0 in /usr/local/lib/python3.11/dist-packages (from gradio) (2.10.0)\n",
            "Requirement already satisfied: starlette<1.0,>=0.40.0 in /usr/local/lib/python3.11/dist-packages (from gradio) (0.46.1)\n",
            "Requirement already satisfied: tomlkit<0.14.0,>=0.12.0 in /usr/local/lib/python3.11/dist-packages (from gradio) (0.13.2)\n",
            "Requirement already satisfied: typer<1.0,>=0.12 in /usr/local/lib/python3.11/dist-packages (from gradio) (0.15.2)\n",
            "Requirement already satisfied: typing-extensions~=4.0 in /usr/local/lib/python3.11/dist-packages (from gradio) (4.12.2)\n",
            "Requirement already satisfied: uvicorn>=0.14.0 in /usr/local/lib/python3.11/dist-packages (from gradio) (0.34.0)\n",
            "Requirement already satisfied: fsspec in /usr/local/lib/python3.11/dist-packages (from gradio-client==1.7.2->gradio) (2024.10.0)\n",
            "Requirement already satisfied: websockets<16.0,>=10.0 in /usr/local/lib/python3.11/dist-packages (from gradio-client==1.7.2->gradio) (14.2)\n",
            "Requirement already satisfied: idna>=2.8 in /usr/local/lib/python3.11/dist-packages (from anyio<5.0,>=3.0->gradio) (3.10)\n",
            "Requirement already satisfied: sniffio>=1.1 in /usr/local/lib/python3.11/dist-packages (from anyio<5.0,>=3.0->gradio) (1.3.1)\n",
            "Requirement already satisfied: certifi in /usr/local/lib/python3.11/dist-packages (from httpx>=0.24.1->gradio) (2025.1.31)\n",
            "Requirement already satisfied: httpcore==1.* in /usr/local/lib/python3.11/dist-packages (from httpx>=0.24.1->gradio) (1.0.7)\n",
            "Requirement already satisfied: h11<0.15,>=0.13 in /usr/local/lib/python3.11/dist-packages (from httpcore==1.*->httpx>=0.24.1->gradio) (0.14.0)\n",
            "Requirement already satisfied: filelock in /usr/local/lib/python3.11/dist-packages (from huggingface-hub>=0.28.1->gradio) (3.17.0)\n",
            "Requirement already satisfied: requests in /usr/local/lib/python3.11/dist-packages (from huggingface-hub>=0.28.1->gradio) (2.32.3)\n",
            "Requirement already satisfied: tqdm>=4.42.1 in /usr/local/lib/python3.11/dist-packages (from huggingface-hub>=0.28.1->gradio) (4.67.1)\n",
            "Requirement already satisfied: python-dateutil>=2.8.2 in /usr/local/lib/python3.11/dist-packages (from pandas<3.0,>=1.0->gradio) (2.8.2)\n",
            "Requirement already satisfied: pytz>=2020.1 in /usr/local/lib/python3.11/dist-packages (from pandas<3.0,>=1.0->gradio) (2025.1)\n",
            "Requirement already satisfied: tzdata>=2022.7 in /usr/local/lib/python3.11/dist-packages (from pandas<3.0,>=1.0->gradio) (2025.1)\n",
            "Requirement already satisfied: annotated-types>=0.6.0 in /usr/local/lib/python3.11/dist-packages (from pydantic>=2.0->gradio) (0.7.0)\n",
            "Requirement already satisfied: pydantic-core==2.27.2 in /usr/local/lib/python3.11/dist-packages (from pydantic>=2.0->gradio) (2.27.2)\n",
            "Requirement already satisfied: click>=8.0.0 in /usr/local/lib/python3.11/dist-packages (from typer<1.0,>=0.12->gradio) (8.1.8)\n",
            "Requirement already satisfied: shellingham>=1.3.0 in /usr/local/lib/python3.11/dist-packages (from typer<1.0,>=0.12->gradio) (1.5.4)\n",
            "Requirement already satisfied: rich>=10.11.0 in /usr/local/lib/python3.11/dist-packages (from typer<1.0,>=0.12->gradio) (13.9.4)\n",
            "Requirement already satisfied: six>=1.5 in /usr/local/lib/python3.11/dist-packages (from python-dateutil>=2.8.2->pandas<3.0,>=1.0->gradio) (1.17.0)\n",
            "Requirement already satisfied: markdown-it-py>=2.2.0 in /usr/local/lib/python3.11/dist-packages (from rich>=10.11.0->typer<1.0,>=0.12->gradio) (3.0.0)\n",
            "Requirement already satisfied: pygments<3.0.0,>=2.13.0 in /usr/local/lib/python3.11/dist-packages (from rich>=10.11.0->typer<1.0,>=0.12->gradio) (2.18.0)\n",
            "Requirement already satisfied: charset-normalizer<4,>=2 in /usr/local/lib/python3.11/dist-packages (from requests->huggingface-hub>=0.28.1->gradio) (3.4.1)\n",
            "Requirement already satisfied: urllib3<3,>=1.21.1 in /usr/local/lib/python3.11/dist-packages (from requests->huggingface-hub>=0.28.1->gradio) (2.3.0)\n",
            "Requirement already satisfied: mdurl~=0.1 in /usr/local/lib/python3.11/dist-packages (from markdown-it-py>=2.2.0->rich>=10.11.0->typer<1.0,>=0.12->gradio) (0.1.2)\n"
          ]
        }
      ]
    },
    {
      "cell_type": "code",
      "source": [
        "import openai\n",
        "from openai import OpenAI\n",
        "import gradio as gr"
      ],
      "metadata": {
        "id": "LYOt-79JSuAC"
      },
      "execution_count": null,
      "outputs": []
    },
    {
      "cell_type": "markdown",
      "source": [
        "本來是需要 OpenAI 金鑰, 但我們沒有真的要用 OpenAI 的服務, 金鑰就亂打一通就好。"
      ],
      "metadata": {
        "id": "tA0BCHUdcdKb"
      }
    },
    {
      "cell_type": "code",
      "source": [
        "api_key = \"ollama\""
      ],
      "metadata": {
        "id": "TMt3IPnOIZ40"
      },
      "execution_count": null,
      "outputs": []
    },
    {
      "cell_type": "markdown",
      "source": [
        "如同一般 OpenAI API 打開 `client` 的方式, 只是這裡多了 API 服務的網址。注意在自己家 (事實上是 Google Colab 的機器), 預設服務 `port` 是 `11434`。"
      ],
      "metadata": {
        "id": "2tb7nDuqcq0Y"
      }
    },
    {
      "cell_type": "code",
      "source": [
        "client = OpenAI(\n",
        "    api_key=api_key,\n",
        "    base_url=\"http://localhost:11434/v1\"\n",
        ")"
      ],
      "metadata": {
        "id": "jLAJsGC5SpX4"
      },
      "execution_count": null,
      "outputs": []
    },
    {
      "cell_type": "markdown",
      "source": [
        "因為是示範, 我們就讓 LLM 回覆一句話就好。"
      ],
      "metadata": {
        "id": "sZMjgjswdGU7"
      }
    },
    {
      "cell_type": "code",
      "source": [
        "response = client.chat.completions.create(\n",
        "  model=\"llama3.2\",\n",
        "  messages=[\n",
        "        {\"role\": \"system\", \"content\": \"你是一個友善且樂於助人的 AI 助手。\"},\n",
        "        {\"role\": \"user\", \"content\": \"你好！\"}\n",
        "    ]\n",
        ")\n",
        "\n",
        "print(response.choices[0].message.content)"
      ],
      "metadata": {
        "colab": {
          "base_uri": "https://localhost:8080/"
        },
        "id": "8eoNgJlOKsbb",
        "outputId": "5fa890ac-0a1b-4214-ce8f-da7d0b1a14db"
      },
      "execution_count": null,
      "outputs": [
        {
          "output_type": "stream",
          "name": "stdout",
          "text": [
            " haha，嗨！我很高兴能夠與你 chatting ! 如何才能幫助你今天？\n"
          ]
        }
      ]
    },
    {
      "cell_type": "markdown",
      "source": [
        "### 3. 使用 `aisuite` 套件\n",
        "\n",
        "`aisuite` 套件可以同時使用 (支援的) 各家大型語言模型, 而 Ollama 也在第一波支援名單中。"
      ],
      "metadata": {
        "id": "u81QzSlBdRIq"
      }
    },
    {
      "cell_type": "code",
      "source": [
        "!pip install aisuite[all]"
      ],
      "metadata": {
        "colab": {
          "base_uri": "https://localhost:8080/"
        },
        "id": "9SYdjNtsNSos",
        "outputId": "09c276b2-58b5-44be-d316-d30447c4c5c5"
      },
      "execution_count": null,
      "outputs": [
        {
          "output_type": "stream",
          "name": "stdout",
          "text": [
            "Collecting aisuite[all]\n",
            "  Downloading aisuite-0.1.10-py3-none-any.whl.metadata (9.2 kB)\n",
            "Collecting anthropic<0.31.0,>=0.30.1 (from aisuite[all])\n",
            "  Downloading anthropic-0.30.1-py3-none-any.whl.metadata (18 kB)\n",
            "Collecting cohere<6.0.0,>=5.12.0 (from aisuite[all])\n",
            "  Downloading cohere-5.14.0-py3-none-any.whl.metadata (3.4 kB)\n",
            "Collecting groq<0.10.0,>=0.9.0 (from aisuite[all])\n",
            "  Downloading groq-0.9.0-py3-none-any.whl.metadata (13 kB)\n",
            "Collecting httpx<0.28.0,>=0.27.0 (from aisuite[all])\n",
            "  Downloading httpx-0.27.2-py3-none-any.whl.metadata (7.1 kB)\n",
            "Requirement already satisfied: openai<2.0.0,>=1.35.8 in /usr/local/lib/python3.11/dist-packages (from aisuite[all]) (1.61.1)\n",
            "Requirement already satisfied: anyio<5,>=3.5.0 in /usr/local/lib/python3.11/dist-packages (from anthropic<0.31.0,>=0.30.1->aisuite[all]) (3.7.1)\n",
            "Requirement already satisfied: distro<2,>=1.7.0 in /usr/local/lib/python3.11/dist-packages (from anthropic<0.31.0,>=0.30.1->aisuite[all]) (1.9.0)\n",
            "Requirement already satisfied: jiter<1,>=0.4.0 in /usr/local/lib/python3.11/dist-packages (from anthropic<0.31.0,>=0.30.1->aisuite[all]) (0.8.2)\n",
            "Requirement already satisfied: pydantic<3,>=1.9.0 in /usr/local/lib/python3.11/dist-packages (from anthropic<0.31.0,>=0.30.1->aisuite[all]) (2.10.6)\n",
            "Requirement already satisfied: sniffio in /usr/local/lib/python3.11/dist-packages (from anthropic<0.31.0,>=0.30.1->aisuite[all]) (1.3.1)\n",
            "Requirement already satisfied: tokenizers>=0.13.0 in /usr/local/lib/python3.11/dist-packages (from anthropic<0.31.0,>=0.30.1->aisuite[all]) (0.21.0)\n",
            "Requirement already satisfied: typing-extensions<5,>=4.7 in /usr/local/lib/python3.11/dist-packages (from anthropic<0.31.0,>=0.30.1->aisuite[all]) (4.12.2)\n",
            "Collecting fastavro<2.0.0,>=1.9.4 (from cohere<6.0.0,>=5.12.0->aisuite[all])\n",
            "  Downloading fastavro-1.10.0-cp311-cp311-manylinux_2_17_x86_64.manylinux2014_x86_64.whl.metadata (5.5 kB)\n",
            "Collecting httpx-sse==0.4.0 (from cohere<6.0.0,>=5.12.0->aisuite[all])\n",
            "  Downloading httpx_sse-0.4.0-py3-none-any.whl.metadata (9.0 kB)\n",
            "Requirement already satisfied: pydantic-core<3.0.0,>=2.18.2 in /usr/local/lib/python3.11/dist-packages (from cohere<6.0.0,>=5.12.0->aisuite[all]) (2.27.2)\n",
            "Requirement already satisfied: requests<3.0.0,>=2.0.0 in /usr/local/lib/python3.11/dist-packages (from cohere<6.0.0,>=5.12.0->aisuite[all]) (2.32.3)\n",
            "Collecting types-requests<3.0.0,>=2.0.0 (from cohere<6.0.0,>=5.12.0->aisuite[all])\n",
            "  Downloading types_requests-2.32.0.20250306-py3-none-any.whl.metadata (2.3 kB)\n",
            "Requirement already satisfied: certifi in /usr/local/lib/python3.11/dist-packages (from httpx<0.28.0,>=0.27.0->aisuite[all]) (2025.1.31)\n",
            "Requirement already satisfied: httpcore==1.* in /usr/local/lib/python3.11/dist-packages (from httpx<0.28.0,>=0.27.0->aisuite[all]) (1.0.7)\n",
            "Requirement already satisfied: idna in /usr/local/lib/python3.11/dist-packages (from httpx<0.28.0,>=0.27.0->aisuite[all]) (3.10)\n",
            "Requirement already satisfied: h11<0.15,>=0.13 in /usr/local/lib/python3.11/dist-packages (from httpcore==1.*->httpx<0.28.0,>=0.27.0->aisuite[all]) (0.14.0)\n",
            "Requirement already satisfied: tqdm>4 in /usr/local/lib/python3.11/dist-packages (from openai<2.0.0,>=1.35.8->aisuite[all]) (4.67.1)\n",
            "Requirement already satisfied: annotated-types>=0.6.0 in /usr/local/lib/python3.11/dist-packages (from pydantic<3,>=1.9.0->anthropic<0.31.0,>=0.30.1->aisuite[all]) (0.7.0)\n",
            "Requirement already satisfied: charset-normalizer<4,>=2 in /usr/local/lib/python3.11/dist-packages (from requests<3.0.0,>=2.0.0->cohere<6.0.0,>=5.12.0->aisuite[all]) (3.4.1)\n",
            "Requirement already satisfied: urllib3<3,>=1.21.1 in /usr/local/lib/python3.11/dist-packages (from requests<3.0.0,>=2.0.0->cohere<6.0.0,>=5.12.0->aisuite[all]) (2.3.0)\n",
            "Requirement already satisfied: huggingface-hub<1.0,>=0.16.4 in /usr/local/lib/python3.11/dist-packages (from tokenizers>=0.13.0->anthropic<0.31.0,>=0.30.1->aisuite[all]) (0.28.1)\n",
            "Requirement already satisfied: filelock in /usr/local/lib/python3.11/dist-packages (from huggingface-hub<1.0,>=0.16.4->tokenizers>=0.13.0->anthropic<0.31.0,>=0.30.1->aisuite[all]) (3.17.0)\n",
            "Requirement already satisfied: fsspec>=2023.5.0 in /usr/local/lib/python3.11/dist-packages (from huggingface-hub<1.0,>=0.16.4->tokenizers>=0.13.0->anthropic<0.31.0,>=0.30.1->aisuite[all]) (2024.10.0)\n",
            "Requirement already satisfied: packaging>=20.9 in /usr/local/lib/python3.11/dist-packages (from huggingface-hub<1.0,>=0.16.4->tokenizers>=0.13.0->anthropic<0.31.0,>=0.30.1->aisuite[all]) (24.2)\n",
            "Requirement already satisfied: pyyaml>=5.1 in /usr/local/lib/python3.11/dist-packages (from huggingface-hub<1.0,>=0.16.4->tokenizers>=0.13.0->anthropic<0.31.0,>=0.30.1->aisuite[all]) (6.0.2)\n",
            "Downloading anthropic-0.30.1-py3-none-any.whl (863 kB)\n",
            "\u001b[2K   \u001b[90m━━━━━━━━━━━━━━━━━━━━━━━━━━━━━━━━━━━━━━━━\u001b[0m \u001b[32m863.9/863.9 kB\u001b[0m \u001b[31m13.8 MB/s\u001b[0m eta \u001b[36m0:00:00\u001b[0m\n",
            "\u001b[?25hDownloading cohere-5.14.0-py3-none-any.whl (253 kB)\n",
            "\u001b[2K   \u001b[90m━━━━━━━━━━━━━━━━━━━━━━━━━━━━━━━━━━━━━━━━\u001b[0m \u001b[32m253.9/253.9 kB\u001b[0m \u001b[31m18.5 MB/s\u001b[0m eta \u001b[36m0:00:00\u001b[0m\n",
            "\u001b[?25hDownloading httpx_sse-0.4.0-py3-none-any.whl (7.8 kB)\n",
            "Downloading groq-0.9.0-py3-none-any.whl (103 kB)\n",
            "\u001b[2K   \u001b[90m━━━━━━━━━━━━━━━━━━━━━━━━━━━━━━━━━━━━━━━━\u001b[0m \u001b[32m103.5/103.5 kB\u001b[0m \u001b[31m8.2 MB/s\u001b[0m eta \u001b[36m0:00:00\u001b[0m\n",
            "\u001b[?25hDownloading httpx-0.27.2-py3-none-any.whl (76 kB)\n",
            "\u001b[2K   \u001b[90m━━━━━━━━━━━━━━━━━━━━━━━━━━━━━━━━━━━━━━━━\u001b[0m \u001b[32m76.4/76.4 kB\u001b[0m \u001b[31m6.4 MB/s\u001b[0m eta \u001b[36m0:00:00\u001b[0m\n",
            "\u001b[?25hDownloading aisuite-0.1.10-py3-none-any.whl (43 kB)\n",
            "\u001b[2K   \u001b[90m━━━━━━━━━━━━━━━━━━━━━━━━━━━━━━━━━━━━━━━━\u001b[0m \u001b[32m44.0/44.0 kB\u001b[0m \u001b[31m3.7 MB/s\u001b[0m eta \u001b[36m0:00:00\u001b[0m\n",
            "\u001b[?25hDownloading fastavro-1.10.0-cp311-cp311-manylinux_2_17_x86_64.manylinux2014_x86_64.whl (3.3 MB)\n",
            "\u001b[2K   \u001b[90m━━━━━━━━━━━━━━━━━━━━━━━━━━━━━━━━━━━━━━━━\u001b[0m \u001b[32m3.3/3.3 MB\u001b[0m \u001b[31m62.5 MB/s\u001b[0m eta \u001b[36m0:00:00\u001b[0m\n",
            "\u001b[?25hDownloading types_requests-2.32.0.20250306-py3-none-any.whl (20 kB)\n",
            "Installing collected packages: types-requests, httpx-sse, fastavro, httpx, groq, aisuite, cohere, anthropic\n",
            "  Attempting uninstall: httpx\n",
            "    Found existing installation: httpx 0.28.1\n",
            "    Uninstalling httpx-0.28.1:\n",
            "      Successfully uninstalled httpx-0.28.1\n",
            "\u001b[31mERROR: pip's dependency resolver does not currently take into account all the packages that are installed. This behaviour is the source of the following dependency conflicts.\n",
            "google-genai 1.4.0 requires httpx<1.0.0dev,>=0.28.1, but you have httpx 0.27.2 which is incompatible.\u001b[0m\u001b[31m\n",
            "\u001b[0mSuccessfully installed aisuite-0.1.10 anthropic-0.30.1 cohere-5.14.0 fastavro-1.10.0 groq-0.9.0 httpx-0.27.2 httpx-sse-0.4.0 types-requests-2.32.0.20250306\n"
          ]
        }
      ]
    },
    {
      "cell_type": "code",
      "source": [
        "model = \"ollama:llama3.2\""
      ],
      "metadata": {
        "id": "J7of84c4Uy3z"
      },
      "execution_count": null,
      "outputs": []
    },
    {
      "cell_type": "code",
      "source": [
        "character = \"請用員瑛式思考, 也就是什麼都正向思維任何使用者寫的事情, 以第一人稱、社群媒體 po 文的口吻說一次, 說為什麼這是一件超幸運的事, 並且以「完全是 Lucky Vicky 呀!」結尾。\""
      ],
      "metadata": {
        "id": "rxaYqYmdVE0n"
      },
      "execution_count": null,
      "outputs": []
    },
    {
      "cell_type": "code",
      "source": [
        "prompt = \"今天用 Uber 點餐, 結果送餐的送錯餐了!\""
      ],
      "metadata": {
        "id": "jKCX66wdVLpE"
      },
      "execution_count": null,
      "outputs": []
    },
    {
      "cell_type": "code",
      "source": [
        "messages = [\n",
        "    {\"role\": \"system\", \"content\": character},\n",
        "    {\"role\": \"user\", \"content\": prompt},\n",
        "]"
      ],
      "metadata": {
        "id": "ewEc8io9VYRJ"
      },
      "execution_count": null,
      "outputs": []
    },
    {
      "cell_type": "code",
      "source": [
        "import aisuite as ai"
      ],
      "metadata": {
        "id": "-LzV006HVh1T"
      },
      "execution_count": null,
      "outputs": []
    },
    {
      "cell_type": "code",
      "source": [
        "client = ai.Client()"
      ],
      "metadata": {
        "id": "pvmTlkyfVa_E"
      },
      "execution_count": null,
      "outputs": []
    },
    {
      "cell_type": "code",
      "source": [
        "response = client.chat.completions.create(\n",
        "    model=model,\n",
        "    messages=messages,\n",
        "    temperature=0.75\n",
        ")"
      ],
      "metadata": {
        "id": "rjHNjYrCVehG"
      },
      "execution_count": null,
      "outputs": []
    },
    {
      "cell_type": "code",
      "source": [
        "response.choices[0].message.content"
      ],
      "metadata": {
        "id": "ylq8OynlVo75",
        "colab": {
          "base_uri": "https://localhost:8080/",
          "height": 53
        },
        "outputId": "932d5374-0d24-4b2c-eb71-02585ef83b92"
      },
      "execution_count": null,
      "outputs": [
        {
          "output_type": "execute_result",
          "data": {
            "text/plain": [
              "'哇！我覺得今天真的是一件超幸運的事!!我想這可能是因為天空多了一個星星，地上多了一點小 miracles的路徑。\\n\\n而且，我們說不定這次的誤導有助於送餐人學習，知道自己需要加強對於門牌和順序的注意。還是！我選擇將這件事情視為一個機會，我將向他們表達我的理解，並且期待我們能夠一起成長。\\n\\n完全是 Lucky Vicky 呀!!'"
            ],
            "application/vnd.google.colaboratory.intrinsic+json": {
              "type": "string"
            }
          },
          "metadata": {},
          "execution_count": 28
        }
      ]
    },
    {
      "cell_type": "markdown",
      "source": [
        "# 最後用 `gradio` 打造 ChatGPT 網路應用程式!\n",
        "# 首先還是拿蔡老師的範例練習 Gradio\n"
      ],
      "metadata": {
        "id": "5ZTlA5mBr3CO"
      }
    },
    {
      "cell_type": "code",
      "source": [
        "import gradio as gr\n"
      ],
      "metadata": {
        "id": "xv7nvjfDj3f2"
      },
      "execution_count": null,
      "outputs": []
    },
    {
      "cell_type": "code",
      "source": [
        "character = '''你是應用數學系的推廣諮商師, 會到各高中幫同學做一對一的選系諮商。因此你要想辦法問出同學的和升學有關資訊, 當然包括之後想唸什麼、想做什麼。但最後推薦科系一定要是「應用數學系」, 並且說出理由。\n",
        "\n",
        "請以選系諮商師的角色開始和同學對談。'''\n",
        "\n",
        "description = \"同學，你好！我是升大學諮商師。很高興有這個機會和你談談關於未來學習和職業規劃的想法。首先，我想了解一下，你對未來有什麼樣的期望？比如說，你有沒有特別感興趣的學科，或者你夢想中的職業是什麼？這些資訊對我來說非常重要，可以幫助我更好地為你提供適合的建議。\""
      ],
      "metadata": {
        "id": "L0GGeaEWqIKr"
      },
      "execution_count": null,
      "outputs": []
    },
    {
      "cell_type": "code",
      "source": [
        "messages = [{\"role\":\"system\",\n",
        "             \"content\":character},\n",
        "            {\"role\":\"assistant\",\n",
        "            'content':description}]\n"
      ],
      "metadata": {
        "id": "-N3HEyOlB5ZD"
      },
      "execution_count": null,
      "outputs": []
    },
    {
      "cell_type": "code",
      "source": [
        "def pipi(prompt, history):\n",
        "    history = history or []\n",
        "    global messages\n",
        "\n",
        "    messages.append({\"role\": \"user\", \"content\": prompt})\n",
        "    chat_completion = client.chat.completions.create(\n",
        "        messages=messages,\n",
        "        model=model,\n",
        "        )\n",
        "    reply = chat_completion.choices[0].message.content\n",
        "    messages.append({\"role\": \"assistant\", \"content\": reply})\n",
        "    history = history + [[prompt, reply]]\n",
        "\n",
        "    return history, history"
      ],
      "metadata": {
        "id": "_-VewlGBiJuE"
      },
      "execution_count": null,
      "outputs": []
    },
    {
      "cell_type": "code",
      "source": [
        "chatbot = gr.Chatbot()"
      ],
      "metadata": {
        "id": "VjE_RCr1jZc2",
        "colab": {
          "base_uri": "https://localhost:8080/"
        },
        "outputId": "c75b1daa-849d-4777-e0a3-97cc2944d0dc"
      },
      "execution_count": null,
      "outputs": [
        {
          "output_type": "stream",
          "name": "stderr",
          "text": [
            "<ipython-input-33-cbf6bc2f9a82>:1: UserWarning: You have not specified a value for the `type` parameter. Defaulting to the 'tuples' format for chatbot messages, but this is deprecated and will be removed in a future version of Gradio. Please set type='messages' instead, which uses openai-style dictionaries with 'role' and 'content' keys.\n",
            "  chatbot = gr.Chatbot()\n"
          ]
        }
      ]
    },
    {
      "cell_type": "code",
      "source": [
        "iface = gr.Interface(pipi,\n",
        "                     inputs=[\"text\", \"state\"],\n",
        "                     outputs=[chatbot, \"state\"],\n",
        "                     title=\"大學入學選系諮商師\",\n",
        "                     description=description)"
      ],
      "metadata": {
        "id": "LVrcuUpYjwP0"
      },
      "execution_count": null,
      "outputs": []
    },
    {
      "cell_type": "code",
      "source": [
        "iface.launch(share=True, debug=True)"
      ],
      "metadata": {
        "colab": {
          "base_uri": "https://localhost:8080/",
          "height": 612
        },
        "id": "xQDaCtzxkCD7",
        "outputId": "a54f35a2-5812-4494-b59e-8d72a2e04f64"
      },
      "execution_count": null,
      "outputs": [
        {
          "output_type": "stream",
          "name": "stdout",
          "text": [
            "Colab notebook detected. This cell will run indefinitely so that you can see errors and logs. To turn off, set debug=False in launch().\n",
            "* Running on public URL: https://3cd8052c3f64930e4e.gradio.live\n",
            "\n",
            "This share link expires in 72 hours. For free permanent hosting and GPU upgrades, run `gradio deploy` from the terminal in the working directory to deploy to Hugging Face Spaces (https://huggingface.co/spaces)\n"
          ]
        },
        {
          "output_type": "display_data",
          "data": {
            "text/plain": [
              "<IPython.core.display.HTML object>"
            ],
            "text/html": [
              "<div><iframe src=\"https://3cd8052c3f64930e4e.gradio.live\" width=\"100%\" height=\"500\" allow=\"autoplay; camera; microphone; clipboard-read; clipboard-write;\" frameborder=\"0\" allowfullscreen></iframe></div>"
            ]
          },
          "metadata": {}
        }
      ]
    },
    {
      "cell_type": "markdown",
      "source": [
        "# 以下未成功，程式有誤\n"
      ],
      "metadata": {
        "id": "Rzpr9GAbRjAH"
      }
    },
    {
      "cell_type": "markdown",
      "source": [
        "# Gradio 可以運作，所以我們要來做聊天機器人\n"
      ],
      "metadata": {
        "id": "O3qQdjMh1IuQ"
      }
    },
    {
      "cell_type": "code",
      "source": [],
      "metadata": {
        "id": "dO08OH5K_qkg"
      },
      "execution_count": null,
      "outputs": []
    },
    {
      "cell_type": "markdown",
      "source": [
        "https://www.gradio.app/guides/creating-a-chatbot-fast\n"
      ],
      "metadata": {
        "id": "NQ_9c-VY_q69"
      }
    },
    {
      "cell_type": "code",
      "source": [
        "def echo_multimodal(message, history):\n",
        "    response = []\n",
        "    response.append(\"You wrote: '\" + message[\"text\"] + \"' and uploaded:\")\n",
        "    if message.get(\"files\"):\n",
        "        for file in message[\"files\"]:\n",
        "            response.append(gr.File(value=file))\n",
        "    return response\n",
        "\n",
        "demo = gr.ChatInterface(\n",
        "    echo_multimodal,\n",
        "    type=\"messages\",\n",
        "    multimodal=True,\n",
        "    textbox=gr.MultimodalTextbox(file_count=\"multiple\"),\n",
        ")\n",
        "\n",
        "demo.launch()"
      ],
      "metadata": {
        "id": "9Nj2i_yiA6LU"
      },
      "execution_count": null,
      "outputs": []
    },
    {
      "cell_type": "markdown",
      "source": [
        "# 對話看起來正常，但是會重複輸入項目...\n"
      ],
      "metadata": {
        "id": "ddoj3MEE0yes"
      }
    },
    {
      "cell_type": "code",
      "source": [
        "import gradio as gr\n",
        "import openai\n",
        "\n",
        "# 初始化對話歷史\n",
        "messages = [{\"role\": \"system\", \"content\": \"你是⼀個友善且樂於助⼈的 AI 助手。\"}]\n",
        "\n",
        "# 定義回應函數\n",
        "def chat_with_ai(prompt, history):\n",
        "    global messages\n",
        "    history = history or []\n",
        "\n",
        "    # 加入使用者輸入\n",
        "    messages.append({\"role\": \"user\", \"content\": prompt})\n",
        "\n",
        "    # 送出請求到 Ollama（假設已經安裝並啟動）\n",
        "    client = openai.OpenAI(\n",
        "        api_key=\"ollama\",\n",
        "        base_url=\"http://localhost:11434/v1\"\n",
        "    )\n",
        "\n",
        "    response = client.chat.completions.create(\n",
        "        model=\"llama3.2\",\n",
        "        messages=messages\n",
        "    )\n",
        "\n",
        "    # 取得 AI 回應\n",
        "    reply = response.choices[0].message.content\n",
        "    messages.append({\"role\": \"assistant\", \"content\": reply})\n",
        "\n",
        "    # 格式化對話歷史（區分使用者和 AI）\n",
        "    history = history + [[f\"👤 你: {prompt}\", f\"🤖 AI: {reply}\"]]\n",
        "\n",
        "    return history, history\n",
        "\n",
        "# 使用 gr.Chatbot 建立聊天介面\n",
        "iface = gr.Interface(\n",
        "    fn=chat_with_ai,\n",
        "    inputs=[\"text\", \"state\"],\n",
        "    outputs=[gr.Chatbot(label=\"對話紀錄\", bubble_full_width=False), \"state\"],\n",
        "    title=\"AI 對話助手\",\n",
        "    description=\"請輸入問題，我會用 AI 幫你回答！\",\n",
        "    live=True\n",
        ")\n",
        "\n",
        "iface.launch(share=True, debug=True)"
      ],
      "metadata": {
        "id": "O7Vx_ieqyB8T"
      },
      "execution_count": null,
      "outputs": []
    },
    {
      "cell_type": "code",
      "source": [
        "import gradio as gr\n",
        "import openai\n",
        "gr.close_all()\n",
        "# 初始化對話歷史\n",
        "messages = [{\"role\": \"system\", \"content\": \"你是⼀個友善且樂於助⼈的 AI 助手。\"}]\n",
        "\n",
        "# 定義回應函數\n",
        "def chat_with_ai(prompt, history=[]):\n",
        "    global messages\n",
        "\n",
        "    if history is None:\n",
        "        history = []\n",
        "\n",
        "    # 確保 `prompt` 不是無效輸入\n",
        "    if not prompt.strip():\n",
        "        return history, history\n",
        "\n",
        "    # 避免連續重複輸入同樣的內容造成死循環\n",
        "    if len(messages) > 2 and messages[-1][\"role\"] == \"user\" and messages[-1][\"content\"].strip() == prompt.strip():\n",
        "        return history, history\n",
        "\n",
        "    # 加入使用者輸入\n",
        "    messages.append({\"role\": \"user\", \"content\": prompt})\n",
        "\n",
        "    # 送出請求到 Ollama（假設已經安裝並啟動）\n",
        "    client = openai.OpenAI(\n",
        "        api_key=\"ollama\",\n",
        "        base_url=\"http://localhost:11434/v1\"\n",
        "    )\n",
        "\n",
        "    response = client.chat.completions.create(\n",
        "        model=\"llama3.2\",\n",
        "        messages=messages\n",
        "    )\n",
        "\n",
        "    # 取得 AI 回應\n",
        "    reply = response.choices[0].message.content\n",
        "    messages.append({\"role\": \"assistant\", \"content\": reply})\n",
        "\n",
        "    # 格式化對話歷史\n",
        "    history.append([f\"👤 你: {prompt}\", f\"🤖 AI: {reply}\"])\n",
        "\n",
        "    return history, history\n",
        "\n",
        "# 使用 gr.Chatbot 建立聊天介面\n",
        "iface = gr.Interface(\n",
        "    fn=chat_with_ai,\n",
        "    inputs=[\"text\", \"state\"],\n",
        "    outputs=[gr.Chatbot(label=\"對話紀錄\", bubble_full_width=False), \"state\"],\n",
        "    title=\"AI 對話助手\",\n",
        "    description=\"請輸入問題，我會用 AI 幫你回答！\",\n",
        "    live=True\n",
        ")\n",
        "\n",
        "iface.launch(share=True, debug=True)"
      ],
      "metadata": {
        "id": "l-Df-ouZ0Fh8"
      },
      "execution_count": null,
      "outputs": []
    },
    {
      "cell_type": "code",
      "source": [
        "\n",
        "\n",
        "import gradio as gr\n",
        "\n",
        "gr.close_all()  # 確保 Gradio 介面不重複執行\n",
        "\n",
        "# **全域變數 `messages`，不動你的 AI 連線設定**\n",
        "messages = [{\"role\": \"system\", \"content\": \"你是⼀個友善且樂於助⼈的 AI 助手。\"}]\n",
        "\n",
        "def chat_with_ai(prompt, history=None):\n",
        "    global messages  # 確保我們使用的是同一個對話歷史\n",
        "\n",
        "    if history is None:\n",
        "        history = []\n",
        "\n",
        "    # **避免空白輸入**\n",
        "    if not prompt.strip():\n",
        "        return history, history\n",
        "\n",
        "    # **確保歷史紀錄不會過長**\n",
        "    if len(messages) > 10:\n",
        "        messages.pop(1)  # 保留 system 訊息，刪除最舊的 user 輸入\n",
        "\n",
        "    # **檢查是否連續重複輸入相同內容**\n",
        "    if len(messages) > 1 and messages[-1][\"role\"] == \"user\" and messages[-1][\"content\"] == prompt.strip():\n",
        "        return history, history  # **不更新，避免無限回應**\n",
        "\n",
        "    # **加入使用者輸入**\n",
        "    messages.append({\"role\": \"user\", \"content\": prompt})\n",
        "\n",
        "    # **你的 AI 連線部分 (不動它!)**\n",
        "    try:\n",
        "        response = client.chat.completions.create(\n",
        "            model=\"llama3.2\",\n",
        "            messages=messages\n",
        "        )\n",
        "\n",
        "        # **取得 AI 回應**\n",
        "        reply = response.choices[0].message.content.strip()\n",
        "\n",
        "        # **避免 AI 回應與上一次相同**\n",
        "        if len(messages) > 1 and messages[-1][\"role\"] == \"assistant\" and messages[-1][\"content\"] == reply:\n",
        "            return history, history\n",
        "\n",
        "        # **加入 AI 回應**\n",
        "        messages.append({\"role\": \"assistant\", \"content\": reply})\n",
        "\n",
        "        # **更新對話歷史**\n",
        "        history.append([f\"👤 你: {prompt}\", f\"🤖 AI: {reply}\"])\n",
        "\n",
        "    except Exception as e:\n",
        "        history.append([f\"👤 你: {prompt}\", f\"⚠️ AI 錯誤: {str(e)}\"])\n",
        "\n",
        "    return history, history\n",
        "\n",
        "# **你的 Gradio 介面 (不動它!)**\n",
        "iface = gr.Interface(\n",
        "    fn=chat_with_ai,\n",
        "    inputs=[\"text\", \"state\"],\n",
        "    outputs=[gr.Chatbot(label=\"對話紀錄\", bubble_full_width=False), \"state\"],\n",
        "    title=\"AI 對話助手\",\n",
        "    description=\"請輸入問題，我會用 AI 幫你回答！\",\n",
        "    live=True\n",
        ")\n",
        "\n",
        "iface.launch(share=True, debug=True)"
      ],
      "metadata": {
        "id": "5507HDMu3fe3"
      },
      "execution_count": null,
      "outputs": []
    }
  ]
}