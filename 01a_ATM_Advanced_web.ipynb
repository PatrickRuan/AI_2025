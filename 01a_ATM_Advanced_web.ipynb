{
  "cells": [
    {
      "cell_type": "markdown",
      "metadata": {
        "id": "view-in-github",
        "colab_type": "text"
      },
      "source": [
        "<a href=\"https://colab.research.google.com/github/PatrickRuan/AI_2025/blob/main/01a_ATM_Advanced_web.ipynb\" target=\"_parent\"><img src=\"https://colab.research.google.com/assets/colab-badge.svg\" alt=\"Open In Colab\"/></a>"
      ]
    },
    {
      "cell_type": "markdown",
      "source": [
        "## 使用 Ngrok 建立 Web Base 的程式存取架構\n",
        "\n",
        "我們的這份程式（`01a.ATM_Advanced_web.ipynb`）屬於 **Web base 的版本**，也就是會啟動一個網頁伺服器，讓使用者可以透過網頁與程式互動。\n",
        "\n",
        "但一般來說，我們電腦上的程式（例如 Flask 啟動的網站）只能在本地的 `localhost` 存取，其他人無法直接連線。\n",
        "\n",
        "---\n",
        "\n",
        "### 🔧 解決方法：使用 [ngrok](https://ngrok.com/)\n",
        "\n",
        "Ngrok 的功能是：\n",
        "- 幫我們的本地伺服器（例如 `localhost:5000`）建立一個**公開的網址**（free URL）\n",
        "- 把這個網址對應轉送到我們電腦上指定的 port\n",
        "- 讓外部電腦可以透過這個網址使用我們的服務\n",
        "\n",
        "---\n",
        "\n",
        "### 🔁 架構流程圖解：\n",
        "\n",
        "如下圖所示（請參考投影片中的圖）：\n",
        "\n",
        "- **粉紅色區塊（程式 + 本地電腦接口）**：這是我們在電腦上寫的程式，相當於 server，負責主要的處理與計算。\n",
        "- **NGROK 的 free URL**：相當於一座橋樑，把外部世界與本地的程式接起來。\n",
        "- **右側的其他電腦**：是從網路上要來存取我們服務的使用者或設備。\n",
        "\n",
        "簡單來說：  \n",
        "> **Ngrok 就是把我們電腦裡 localhost:xxxx 這個服務包裝成一個真正可以從外部打開的網址！**\n",
        "\n",
        "---\n",
        "\n",
        "✅ 這樣的方式非常適合開發階段、展示階段，或是給別人測試我們寫的 web 程式用。不需要租用雲端主機，也不需要自己設防火牆。\n",
        "\n"
      ],
      "metadata": {
        "id": "2nwsQhdE5p28"
      }
    },
    {
      "cell_type": "code",
      "execution_count": null,
      "metadata": {
        "colab": {
          "base_uri": "https://localhost:8080/"
        },
        "id": "7pJaWEeN_6CO",
        "outputId": "4dc9d9ce-931a-4f1e-ae61-6f828109d04a"
      },
      "outputs": [
        {
          "output_type": "stream",
          "name": "stdout",
          "text": [
            "Requirement already satisfied: pyngrok in /usr/local/lib/python3.11/dist-packages (7.2.3)\n",
            "Requirement already satisfied: PyYAML>=5.1 in /usr/local/lib/python3.11/dist-packages (from pyngrok) (6.0.2)\n",
            "請輸入你的 ngrok authtoken：··········\n",
            "🌍 Ngrok 公開網址: NgrokTunnel: \"https://4cfb-34-122-49-210.ngrok-free.app\" -> \"http://localhost:5000\"\n",
            " * Serving Flask app '__main__'\n",
            " * Debug mode: off\n"
          ]
        },
        {
          "output_type": "stream",
          "name": "stderr",
          "text": [
            "INFO:werkzeug:\u001b[31m\u001b[1mWARNING: This is a development server. Do not use it in a production deployment. Use a production WSGI server instead.\u001b[0m\n",
            " * Running on all addresses (0.0.0.0)\n",
            " * Running on http://127.0.0.1:5000\n",
            " * Running on http://172.28.0.12:5000\n",
            "INFO:werkzeug:\u001b[33mPress CTRL+C to quit\u001b[0m\n",
            "INFO:werkzeug:127.0.0.1 - - [10/Apr/2025 07:45:48] \"GET / HTTP/1.1\" 200 -\n",
            "INFO:werkzeug:127.0.0.1 - - [10/Apr/2025 07:45:49] \"\u001b[33mGET /favicon.ico HTTP/1.1\u001b[0m\" 404 -\n",
            "INFO:werkzeug:127.0.0.1 - - [10/Apr/2025 07:45:55] \"POST / HTTP/1.1\" 200 -\n"
          ]
        }
      ],
      "source": [
        "!pip install pyngrok  # 用 ! 就是用我們的 terminal, cli, cmd\n",
        "\n",
        "from flask import Flask, request\n",
        "from pyngrok import ngrok, conf\n",
        "from getpass import getpass\n",
        "\n",
        "# 輸入 ngrok authtoken\n",
        "auth_token = getpass(\"請輸入你的 ngrok authtoken：\")\n",
        "\n",
        "# 設定 authtoken\n",
        "conf.get_default().auth_token = auth_token # conf 是 pyngrok 的一個物件\n",
        "\n",
        "# 開啟 ngrok 隧道\n",
        "public_url = ngrok.connect(5000)\n",
        "print(f\"🌍 Ngrok 公開網址: {public_url}\")\n",
        "\n",
        "# 建立 Flask app\n",
        "app = Flask(__name__)\n",
        "\n",
        "accounts_dict = {\n",
        "    'user1234': {'password': '5678', 'name': '小明'},\n",
        "    'user5678': {'password': '1234', 'name': '阿美'}\n",
        "}\n",
        "# HTML\n",
        "login_form = '''\n",
        "<h2>ATM 登入系統</h2>\n",
        "<form method=\"POST\">\n",
        "    帳號：<input type=\"text\" name=\"username\"><br>\n",
        "    密碼：<input type=\"password\" name=\"password\"><br>\n",
        "    <input type=\"submit\" value=\"登入\">\n",
        "</form>\n",
        "'''\n",
        "\n",
        "@app.route('/', methods=['GET', 'POST'])\n",
        "def login():\n",
        "    if request.method == 'POST':\n",
        "        username = request.form.get('username')\n",
        "        password = request.form.get('password')\n",
        "\n",
        "        if username in accounts_dict and password == accounts_dict[username]['password']:\n",
        "            return f\"<h3>✅ 登入成功！歡迎 {accounts_dict[username]['name']}！</h3>\"\n",
        "        else:\n",
        "            return \"<h3>❌ 帳號或密碼錯誤！</h3>\" + login_form\n",
        "    return login_form\n",
        "\n",
        "# 啟動 Flask 伺服器\n",
        "app.run(host='0.0.0.0', port=5000)\n"
      ]
    },
    {
      "cell_type": "markdown",
      "source": [
        "## Flask 程式結構介紹：建立一個簡單的登入系統\n",
        "\n",
        "我們在這裡使用 Python 的 Flask 套件來建立一個 **網頁應用程式**（Web App）。\n",
        "\n",
        "---\n",
        "\n",
        "### 🔁 基本流程\n",
        "\n",
        "1. 使用者打開網址（由 ngrok 提供的公開網址）\n",
        "2. Flask 伺服器收到請求，根據網址與方法（GET 或 POST）來決定要執行什麼功能\n",
        "3. 如果是 GET：顯示登入表單  \n",
        "   如果是 POST：接收帳號密碼並進行比對\n",
        "\n",
        "---\n",
        "\n",
        "### ✨ 重點語法說明\n",
        "\n",
        "#### 🔹 `@app.route('/', methods=['GET', 'POST'])`\n",
        "\n",
        "- `@app.route(...)` 是一個「裝飾器」，它的意思是：\n",
        "  \n",
        "  👉「當有人造訪 `/` 這個網址時，要執行下面定義的函式（`login()`）」\n",
        "\n",
        "- `methods=['GET', 'POST']` 表示這個網址支援兩種請求方式：\n",
        "  - **GET**：通常是打開網頁（沒送資料）\n",
        "  - **POST**：是從表單送出資料（帳號密碼）\n",
        "\n",
        "---\n",
        "\n",
        "#### 🔹 `def login():`\n",
        "\n",
        "這個函式就是處理登入邏輯的地方：\n",
        "- 如果是 **POST**，表示使用者送出表單，我們就取出帳號密碼進行比對。\n",
        "- 如果是比對成功，就回傳歡迎訊息。\n",
        "- 如果失敗，回傳錯誤訊息＋登入表單。\n",
        "- 如果只是打開網頁（GET），就顯示登入表單。\n",
        "\n",
        "---\n",
        "\n",
        "#### 🔹 `app.run(host='0.0.0.0', port=5000)`\n",
        "\n",
        "- 這一行的意思是「啟動 Flask 伺服器」\n",
        "- `host='0.0.0.0'`：代表開放給所有 IP 存取（讓 ngrok 可以連進來）\n",
        "- `port=5000`：是我們開的伺服器 port，跟 ngrok 那行 `ngrok.connect(5000)` 對應\n",
        "\n",
        "---\n",
        "\n",
        "### ✅ 小總結\n",
        "\n",
        "| Flask 元件 | 功能說明 |\n",
        "|------------|----------|\n",
        "| `@app.route()` | 定義哪個網址對應哪個函式 |\n",
        "| `request.method` | 判斷請求方式是 GET 還是 POST |\n",
        "| `request.form.get(...)` | 取得使用者輸入的表單資料 |\n",
        "| `app.run(...)` | 啟動網頁伺服器 |\n",
        "\n",
        "---\n",
        "\n",
        "這樣你就建立好了一個真正的 Web 登入系統，而且別人可以透過 ngrok 網址直接連進來試用！\n",
        "\n"
      ],
      "metadata": {
        "id": "eH-ioBa97PWa"
      }
    },
    {
      "cell_type": "markdown",
      "metadata": {
        "id": "In8bg0SqAw8h"
      },
      "source": [
        "# 底下是 n 次的嘗試，是說 LLM 也不是一次成功，我們花了很多時間，vibe_coding_101 ＠deeplearning.ai 中提醒：be patient"
      ]
    },
    {
      "cell_type": "code",
      "execution_count": null,
      "metadata": {
        "colab": {
          "base_uri": "https://localhost:8080/"
        },
        "id": "coEY3o7bkTT4",
        "outputId": "9ea57e4b-003f-4647-e605-d45e9764d469"
      },
      "outputs": [
        {
          "name": "stdout",
          "output_type": "stream",
          "text": [
            "--2025-03-21 12:51:30--  https://bin.equinox.io/c/bNyj1mQVY4c/ngrok-v3-stable-linux-amd64.tgz\n",
            "Resolving bin.equinox.io (bin.equinox.io)... 75.2.60.68, 13.248.244.96, 35.71.179.82, ...\n",
            "Connecting to bin.equinox.io (bin.equinox.io)|75.2.60.68|:443... connected.\n",
            "HTTP request sent, awaiting response... 200 OK\n",
            "Length: 9372184 (8.9M) [application/octet-stream]\n",
            "Saving to: ‘ngrok-v3-stable-linux-amd64.tgz’\n",
            "\n",
            "ngrok-v3-stable-lin 100%[===================>]   8.94M  9.70MB/s    in 0.9s    \n",
            "\n",
            "2025-03-21 12:51:32 (9.70 MB/s) - ‘ngrok-v3-stable-linux-amd64.tgz’ saved [9372184/9372184]\n",
            "\n",
            "ngrok\n"
          ]
        }
      ],
      "source": [
        "!wget https://bin.equinox.io/c/bNyj1mQVY4c/ngrok-v3-stable-linux-amd64.tgz\n",
        "!tar -xvzf ngrok-v3-stable-linux-amd64.tgz\n"
      ]
    },
    {
      "cell_type": "code",
      "execution_count": null,
      "metadata": {
        "colab": {
          "base_uri": "https://localhost:8080/"
        },
        "id": "7NIEKkxrto1g",
        "outputId": "be785775-0727-4819-8bc7-40db27b30056"
      },
      "outputs": [
        {
          "name": "stdout",
          "output_type": "stream",
          "text": [
            "--2025-03-21 12:46:04--  https://bin.equinox.io/c/4VmDzA7iaHb/ngrok-stable-linux-amd64.zip\n",
            "Resolving bin.equinox.io (bin.equinox.io)... 99.83.220.108, 13.248.244.96, 35.71.179.82, ...\n",
            "Connecting to bin.equinox.io (bin.equinox.io)|99.83.220.108|:443... connected.\n",
            "HTTP request sent, awaiting response... 200 OK\n",
            "Length: 13921656 (13M) [application/octet-stream]\n",
            "Saving to: ‘ngrok.zip’\n",
            "\n",
            "ngrok.zip           100%[===================>]  13.28M  81.2MB/s    in 0.2s    \n",
            "\n",
            "2025-03-21 12:46:05 (81.2 MB/s) - ‘ngrok.zip’ saved [13921656/13921656]\n",
            "\n",
            "Archive:  ngrok.zip\n",
            "  inflating: ngrok                   \n"
          ]
        }
      ],
      "source": [
        "#!wget -O ngrok.zip https://bin.equinox.io/c/4VmDzA7iaHb/ngrok-stable-linux-amd64.zip\n",
        "#!unzip ngrok.zip\n"
      ]
    },
    {
      "cell_type": "code",
      "execution_count": null,
      "metadata": {
        "colab": {
          "base_uri": "https://localhost:8080/"
        },
        "id": "C6rLhbQOtvDT",
        "outputId": "6d1311e9-bf7b-433c-b743-c64bbc35564d"
      },
      "outputs": [
        {
          "name": "stdout",
          "output_type": "stream",
          "text": [
            "Authtoken saved to configuration file: /root/.config/ngrok/ngrok.yml\n"
          ]
        }
      ],
      "source": [
        "!./ngrok authtoken ...."
      ]
    },
    {
      "cell_type": "code",
      "execution_count": null,
      "metadata": {
        "colab": {
          "base_uri": "https://localhost:8080/"
        },
        "id": "SqPW1l2wutJJ",
        "outputId": "50f63eeb-e42b-4d23-f332-8eaa64906cbb"
      },
      "outputs": [
        {
          "name": "stdout",
          "output_type": "stream",
          "text": [
            " * Serving Flask app '__main__'\n",
            " * Debug mode: off\n"
          ]
        },
        {
          "name": "stderr",
          "output_type": "stream",
          "text": [
            "INFO:werkzeug:\u001b[31m\u001b[1mWARNING: This is a development server. Do not use it in a production deployment. Use a production WSGI server instead.\u001b[0m\n",
            " * Running on all addresses (0.0.0.0)\n",
            " * Running on http://127.0.0.1:5000\n",
            " * Running on http://172.28.0.12:5000\n",
            "INFO:werkzeug:\u001b[33mPress CTRL+C to quit\u001b[0m\n"
          ]
        }
      ],
      "source": [
        "from flask import Flask, request\n",
        "\n",
        "app = Flask(__name__)\n",
        "\n",
        "# 假帳號資料\n",
        "accounts_dict = {\n",
        "    'user1234': {'password': '5678', 'name': '小明'},\n",
        "    'user5678': {'password': '1234', 'name': '阿美'}\n",
        "}\n",
        "\n",
        "# 簡單登入頁面\n",
        "login_form = '''\n",
        "<h2>ATM 登入系統</h2>\n",
        "<form method=\"POST\">\n",
        "    帳號：<input type=\"text\" name=\"username\"><br>\n",
        "    密碼：<input type=\"password\" name=\"password\"><br>\n",
        "    <input type=\"submit\" value=\"登入\">\n",
        "</form>\n",
        "'''\n",
        "\n",
        "@app.route('/', methods=['GET', 'POST'])\n",
        "def login():\n",
        "    if request.method == 'POST':\n",
        "        username = request.form.get('username')\n",
        "        password = request.form.get('password')\n",
        "\n",
        "        if username in accounts_dict and password == accounts_dict[username]['password']:\n",
        "            return f\"<h3>✅ 登入成功！歡迎 {accounts_dict[username]['name']}！</h3>\"\n",
        "        else:\n",
        "            return \"<h3>❌ 帳號或密碼錯誤！</h3>\" + login_form\n",
        "    return login_form\n",
        "\n",
        "app.run(host='0.0.0.0', port=5000)\n"
      ]
    },
    {
      "cell_type": "code",
      "execution_count": null,
      "metadata": {
        "colab": {
          "base_uri": "https://localhost:8080/"
        },
        "id": "Y--S9YsewPjC",
        "outputId": "cd240bf0-e086-4f7e-c991-e6f9916f4adb"
      },
      "outputs": [
        {
          "name": "stdout",
          "output_type": "stream",
          "text": [
            "ERROR:  authentication failed: Your account is limited to 1 simultaneous ngrok agent sessions.\n",
            "ERROR:  You can run multiple simultaneous tunnels from a single agent session by defining the tunnels in your agent configuration file and starting them with the command `ngrok start --all`.\n",
            "ERROR:  Read more about the agent configuration file: https://ngrok.com/docs/secure-tunnels/ngrok-agent/reference/config\n",
            "ERROR:  You can view your current agent sessions in the dashboard:\n",
            "ERROR:  https://dashboard.ngrok.com/agents\r\n",
            "ERROR:  \r\n",
            "ERROR:  ERR_NGROK_108\r\n",
            "ERROR:  https://ngrok.com/docs/errors/err_ngrok_108\r\n",
            "ERROR:  \n"
          ]
        }
      ],
      "source": [
        "!./ngrok http 5000\n"
      ]
    },
    {
      "cell_type": "code",
      "execution_count": null,
      "metadata": {
        "colab": {
          "base_uri": "https://localhost:8080/"
        },
        "id": "xux1UPUoxYFP",
        "outputId": "53c90699-a1de-41b1-aa52-da8f88ea6a91"
      },
      "outputs": [
        {
          "name": "stdout",
          "output_type": "stream",
          "text": [
            "--2025-03-21 12:55:16--  https://bin.equinox.io/c/bNyj1mQVY4c/ngrok-v3-stable-linux-amd64.tgz\n",
            "Resolving bin.equinox.io (bin.equinox.io)... 75.2.60.68, 35.71.179.82, 99.83.220.108, ...\n",
            "Connecting to bin.equinox.io (bin.equinox.io)|75.2.60.68|:443... connected.\n",
            "HTTP request sent, awaiting response... 200 OK\n",
            "Length: 9372184 (8.9M) [application/octet-stream]\n",
            "Saving to: ‘ngrok-v3-stable-linux-amd64.tgz’\n",
            "\n",
            "ngrok-v3-stable-lin 100%[===================>]   8.94M  29.3MB/s    in 0.3s    \n",
            "\n",
            "2025-03-21 12:55:17 (29.3 MB/s) - ‘ngrok-v3-stable-linux-amd64.tgz’ saved [9372184/9372184]\n",
            "\n",
            "ngrok\n",
            "Authtoken saved to configuration file: /root/.config/ngrok/ngrok.yml\n",
            " * Serving Flask app '__main__'\n",
            " * Debug mode: off\n"
          ]
        },
        {
          "name": "stderr",
          "output_type": "stream",
          "text": [
            "INFO:werkzeug:\u001b[31m\u001b[1mWARNING: This is a development server. Do not use it in a production deployment. Use a production WSGI server instead.\u001b[0m\n",
            " * Running on all addresses (0.0.0.0)\n",
            " * Running on http://127.0.0.1:5000\n",
            " * Running on http://172.28.0.12:5000\n",
            "INFO:werkzeug:\u001b[33mPress CTRL+C to quit\u001b[0m\n"
          ]
        }
      ],
      "source": [
        "import threading\n",
        "import time\n",
        "from flask import Flask, request\n",
        "import os\n",
        "\n",
        "# 安裝 ngrok v3\n",
        "!wget https://bin.equinox.io/c/bNyj1mQVY4c/ngrok-v3-stable-linux-amd64.tgz\n",
        "!tar -xvzf ngrok-v3-stable-linux-amd64.tgz\n",
        "!./ngrok config add-authtoken ....\n",
        "\n",
        "# 啟動 Flask\n",
        "app = Flask(__name__)\n",
        "\n",
        "accounts_dict = {\n",
        "    'user1234': {'password': '5678', 'name': '小明'},\n",
        "    'user5678': {'password': '1234', 'name': '阿美'}\n",
        "}\n",
        "\n",
        "login_form = '''\n",
        "<h2>ATM 登入系統</h2>\n",
        "<form method=\"POST\">\n",
        "    帳號：<input type=\"text\" name=\"username\"><br>\n",
        "    密碼：<input type=\"password\" name=\"password\"><br>\n",
        "    <input type=\"submit\" value=\"登入\">\n",
        "</form>\n",
        "'''\n",
        "\n",
        "@app.route('/', methods=['GET', 'POST'])\n",
        "def login():\n",
        "    if request.method == 'POST':\n",
        "        username = request.form.get('username')\n",
        "        password = request.form.get('password')\n",
        "\n",
        "        if username in accounts_dict and password == accounts_dict[username]['password']:\n",
        "            return f\"<h3>✅ 登入成功！歡迎 {accounts_dict[username]['name']}！</h3>\"\n",
        "        else:\n",
        "            return \"<h3>❌ 帳號或密碼錯誤！</h3>\" + login_form\n",
        "    return login_form\n",
        "\n",
        "# 啟動 Flask 的執行緒\n",
        "def run_flask():\n",
        "    app.run(host='0.0.0.0', port=5000)\n",
        "\n",
        "# 啟動 ngrok 的執行緒\n",
        "def run_ngrok():\n",
        "    os.system('./ngrok http 5000')\n",
        "\n",
        "# 開啟兩個 thread\n",
        "flask_thread = threading.Thread(target=run_flask)\n",
        "ngrok_thread = threading.Thread(target=run_ngrok)\n",
        "\n",
        "flask_thread.start()\n",
        "time.sleep(2)  # 稍微等一下 Flask 啟動好\n",
        "ngrok_thread.start()\n"
      ]
    },
    {
      "cell_type": "code",
      "execution_count": null,
      "metadata": {
        "colab": {
          "base_uri": "https://localhost:8080/",
          "height": 662
        },
        "id": "E44r6Oniycsj",
        "outputId": "23279b08-0ef7-4338-bad3-8ca2bade580b"
      },
      "outputs": [
        {
          "name": "stdout",
          "output_type": "stream",
          "text": [
            "--2025-03-21 13:00:02--  https://bin.equinox.io/c/bNyj1mQVY4c/ngrok-v3-stable-linux-amd64.tgz\n",
            "Resolving bin.equinox.io (bin.equinox.io)... 13.248.244.96, 75.2.60.68, 35.71.179.82, ...\n",
            "Connecting to bin.equinox.io (bin.equinox.io)|13.248.244.96|:443... connected.\n",
            "HTTP request sent, awaiting response... 200 OK\n",
            "Length: 9372184 (8.9M) [application/octet-stream]\n",
            "Saving to: ‘ngrok-v3-stable-linux-amd64.tgz’\n",
            "\n",
            "ngrok-v3-stable-lin 100%[===================>]   8.94M  44.9MB/s    in 0.2s    \n",
            "\n",
            "2025-03-21 13:00:07 (44.9 MB/s) - ‘ngrok-v3-stable-linux-amd64.tgz’ saved [9372184/9372184]\n",
            "\n",
            "ngrok\n",
            "Authtoken saved to configuration file: /root/.config/ngrok/ngrok.yml\n",
            " * Serving Flask app '__main__'\n",
            " * Debug mode: off\n"
          ]
        },
        {
          "name": "stderr",
          "output_type": "stream",
          "text": [
            "INFO:werkzeug:\u001b[31m\u001b[1mWARNING: This is a development server. Do not use it in a production deployment. Use a production WSGI server instead.\u001b[0m\n",
            " * Running on all addresses (0.0.0.0)\n",
            " * Running on http://127.0.0.1:5000\n",
            " * Running on http://172.28.0.12:5000\n",
            "INFO:werkzeug:\u001b[33mPress CTRL+C to quit\u001b[0m\n"
          ]
        },
        {
          "ename": "TypeError",
          "evalue": "'NoneType' object is not iterable",
          "output_type": "error",
          "traceback": [
            "\u001b[0;31m---------------------------------------------------------------------------\u001b[0m",
            "\u001b[0;31mTypeError\u001b[0m                                 Traceback (most recent call last)",
            "\u001b[0;32m<ipython-input-1-d1f1a00a7472>\u001b[0m in \u001b[0;36m<cell line: 0>\u001b[0;34m()\u001b[0m\n\u001b[1;32m     54\u001b[0m \u001b[0;34m\u001b[0m\u001b[0m\n\u001b[1;32m     55\u001b[0m \u001b[0mtime\u001b[0m\u001b[0;34m.\u001b[0m\u001b[0msleep\u001b[0m\u001b[0;34m(\u001b[0m\u001b[0;36m2\u001b[0m\u001b[0;34m)\u001b[0m  \u001b[0;31m# 等 Flask 啟動\u001b[0m\u001b[0;34m\u001b[0m\u001b[0;34m\u001b[0m\u001b[0m\n\u001b[0;32m---> 56\u001b[0;31m \u001b[0mrun_ngrok\u001b[0m\u001b[0;34m(\u001b[0m\u001b[0;34m)\u001b[0m    \u001b[0;31m# 這裡不需要 threading，直接跑就好\u001b[0m\u001b[0;34m\u001b[0m\u001b[0;34m\u001b[0m\u001b[0m\n\u001b[0m",
            "\u001b[0;32m<ipython-input-1-d1f1a00a7472>\u001b[0m in \u001b[0;36mrun_ngrok\u001b[0;34m()\u001b[0m\n\u001b[1;32m     46\u001b[0m \u001b[0;32mdef\u001b[0m \u001b[0mrun_ngrok\u001b[0m\u001b[0;34m(\u001b[0m\u001b[0;34m)\u001b[0m\u001b[0;34m:\u001b[0m\u001b[0;34m\u001b[0m\u001b[0;34m\u001b[0m\u001b[0m\n\u001b[1;32m     47\u001b[0m     \u001b[0mngrok_process\u001b[0m \u001b[0;34m=\u001b[0m \u001b[0msubprocess\u001b[0m\u001b[0;34m.\u001b[0m\u001b[0mPopen\u001b[0m\u001b[0;34m(\u001b[0m\u001b[0;34m[\u001b[0m\u001b[0;34m'./ngrok'\u001b[0m\u001b[0;34m,\u001b[0m \u001b[0;34m'http'\u001b[0m\u001b[0;34m,\u001b[0m \u001b[0;34m'5000'\u001b[0m\u001b[0;34m]\u001b[0m\u001b[0;34m)\u001b[0m\u001b[0;34m\u001b[0m\u001b[0;34m\u001b[0m\u001b[0m\n\u001b[0;32m---> 48\u001b[0;31m     \u001b[0;32mfor\u001b[0m \u001b[0mline\u001b[0m \u001b[0;32min\u001b[0m \u001b[0mngrok_process\u001b[0m\u001b[0;34m.\u001b[0m\u001b[0mstdout\u001b[0m\u001b[0;34m:\u001b[0m\u001b[0;34m\u001b[0m\u001b[0;34m\u001b[0m\u001b[0m\n\u001b[0m\u001b[1;32m     49\u001b[0m         \u001b[0mprint\u001b[0m\u001b[0;34m(\u001b[0m\u001b[0mline\u001b[0m\u001b[0;34m)\u001b[0m\u001b[0;34m\u001b[0m\u001b[0;34m\u001b[0m\u001b[0m\n\u001b[1;32m     50\u001b[0m \u001b[0;34m\u001b[0m\u001b[0m\n",
            "\u001b[0;31mTypeError\u001b[0m: 'NoneType' object is not iterable"
          ]
        }
      ],
      "source": [
        "import threading\n",
        "import time\n",
        "from flask import Flask, request\n",
        "import os\n",
        "import subprocess\n",
        "\n",
        "# 安裝 ngrok v3\n",
        "!wget https://bin.equinox.io/c/bNyj1mQVY4c/ngrok-v3-stable-linux-amd64.tgz\n",
        "!tar -xvzf ngrok-v3-stable-linux-amd64.tgz\n",
        "!./ngrok config add-authtoken ....\n",
        "\n",
        "# 啟動 Flask\n",
        "app = Flask(__name__)\n",
        "\n",
        "accounts_dict = {\n",
        "    'user1234': {'password': '5678', 'name': '小明'},\n",
        "    'user5678': {'password': '1234', 'name': '阿美'}\n",
        "}\n",
        "\n",
        "login_form = '''\n",
        "<h2>ATM 登入系統</h2>\n",
        "<form method=\"POST\">\n",
        "    帳號：<input type=\"text\" name=\"username\"><br>\n",
        "    密碼：<input type=\"password\" name=\"password\"><br>\n",
        "    <input type=\"submit\" value=\"登入\">\n",
        "</form>\n",
        "'''\n",
        "\n",
        "@app.route('/', methods=['GET', 'POST'])\n",
        "def login():\n",
        "    if request.method == 'POST':\n",
        "        username = request.form.get('username')\n",
        "        password = request.form.get('password')\n",
        "\n",
        "        if username in accounts_dict and password == accounts_dict[username]['password']:\n",
        "            return f\"<h3>✅ 登入成功！歡迎 {accounts_dict[username]['name']}！</h3>\"\n",
        "        else:\n",
        "            return \"<h3>❌ 帳號或密碼錯誤！</h3>\" + login_form\n",
        "    return login_form\n",
        "\n",
        "# 啟動 Flask 的執行緒\n",
        "def run_flask():\n",
        "    app.run(host='0.0.0.0', port=5000)\n",
        "\n",
        "# 改成 subprocess 來跑 ngrok\n",
        "def run_ngrok():\n",
        "    ngrok_process = subprocess.Popen(['./ngrok', 'http', '5000'])\n",
        "    for line in ngrok_process.stdout:\n",
        "        print(line)\n",
        "\n",
        "# 開啟兩個 thread\n",
        "flask_thread = threading.Thread(target=run_flask)\n",
        "flask_thread.start()\n",
        "\n",
        "time.sleep(2)  # 等 Flask 啟動\n",
        "run_ngrok()    # 這裡不需要 threading，直接跑就好\n"
      ]
    },
    {
      "cell_type": "code",
      "execution_count": null,
      "metadata": {
        "colab": {
          "base_uri": "https://localhost:8080/",
          "height": 662
        },
        "id": "bX3VYyaK8mv2",
        "outputId": "7b437270-5cc0-45d5-9b5e-597ff07c7433"
      },
      "outputs": [
        {
          "name": "stdout",
          "output_type": "stream",
          "text": [
            "--2025-03-21 13:44:43--  https://bin.equinox.io/c/bNyj1mQVY4c/ngrok-v3-stable-linux-amd64.tgz\n",
            "Resolving bin.equinox.io (bin.equinox.io)... 99.83.220.108, 13.248.244.96, 75.2.60.68, ...\n",
            "Connecting to bin.equinox.io (bin.equinox.io)|99.83.220.108|:443... connected.\n",
            "HTTP request sent, awaiting response... 200 OK\n",
            "Length: 9372184 (8.9M) [application/octet-stream]\n",
            "Saving to: ‘ngrok-v3-stable-linux-amd64.tgz’\n",
            "\n",
            "ngrok-v3-stable-lin 100%[===================>]   8.94M  16.5MB/s    in 0.5s    \n",
            "\n",
            "2025-03-21 13:44:44 (16.5 MB/s) - ‘ngrok-v3-stable-linux-amd64.tgz’ saved [9372184/9372184]\n",
            "\n",
            "ngrok\n",
            "Authtoken saved to configuration file: /root/.config/ngrok/ngrok.yml\n",
            " * Serving Flask app '__main__'\n",
            " * Debug mode: off\n"
          ]
        },
        {
          "name": "stderr",
          "output_type": "stream",
          "text": [
            "INFO:werkzeug:\u001b[31m\u001b[1mWARNING: This is a development server. Do not use it in a production deployment. Use a production WSGI server instead.\u001b[0m\n",
            " * Running on all addresses (0.0.0.0)\n",
            " * Running on http://127.0.0.1:5000\n",
            " * Running on http://172.28.0.12:5000\n",
            "INFO:werkzeug:\u001b[33mPress CTRL+C to quit\u001b[0m\n"
          ]
        },
        {
          "ename": "KeyboardInterrupt",
          "evalue": "",
          "output_type": "error",
          "traceback": [
            "\u001b[0;31m---------------------------------------------------------------------------\u001b[0m",
            "\u001b[0;31mKeyboardInterrupt\u001b[0m                         Traceback (most recent call last)",
            "\u001b[0;32m<ipython-input-1-86cce184b828>\u001b[0m in \u001b[0;36m<cell line: 0>\u001b[0;34m()\u001b[0m\n\u001b[1;32m     60\u001b[0m \u001b[0;34m\u001b[0m\u001b[0m\n\u001b[1;32m     61\u001b[0m \u001b[0mtime\u001b[0m\u001b[0;34m.\u001b[0m\u001b[0msleep\u001b[0m\u001b[0;34m(\u001b[0m\u001b[0;36m2\u001b[0m\u001b[0;34m)\u001b[0m  \u001b[0;31m# 等 Flask 啟動\u001b[0m\u001b[0;34m\u001b[0m\u001b[0;34m\u001b[0m\u001b[0m\n\u001b[0;32m---> 62\u001b[0;31m \u001b[0mrun_ngrok\u001b[0m\u001b[0;34m(\u001b[0m\u001b[0;34m)\u001b[0m    \u001b[0;31m# 這裡直接跑 ngrok\u001b[0m\u001b[0;34m\u001b[0m\u001b[0;34m\u001b[0m\u001b[0m\n\u001b[0m",
            "\u001b[0;32m<ipython-input-1-86cce184b828>\u001b[0m in \u001b[0;36mrun_ngrok\u001b[0;34m()\u001b[0m\n\u001b[1;32m     50\u001b[0m \u001b[0;34m\u001b[0m\u001b[0m\n\u001b[1;32m     51\u001b[0m     \u001b[0;32mwhile\u001b[0m \u001b[0;32mTrue\u001b[0m\u001b[0;34m:\u001b[0m\u001b[0;34m\u001b[0m\u001b[0;34m\u001b[0m\u001b[0m\n\u001b[0;32m---> 52\u001b[0;31m         \u001b[0mline\u001b[0m \u001b[0;34m=\u001b[0m \u001b[0mngrok_process\u001b[0m\u001b[0;34m.\u001b[0m\u001b[0mstdout\u001b[0m\u001b[0;34m.\u001b[0m\u001b[0mreadline\u001b[0m\u001b[0;34m(\u001b[0m\u001b[0;34m)\u001b[0m\u001b[0;34m\u001b[0m\u001b[0;34m\u001b[0m\u001b[0m\n\u001b[0m\u001b[1;32m     53\u001b[0m         \u001b[0;32mif\u001b[0m \u001b[0;32mnot\u001b[0m \u001b[0mline\u001b[0m\u001b[0;34m:\u001b[0m\u001b[0;34m\u001b[0m\u001b[0;34m\u001b[0m\u001b[0m\n\u001b[1;32m     54\u001b[0m             \u001b[0;32mbreak\u001b[0m\u001b[0;34m\u001b[0m\u001b[0;34m\u001b[0m\u001b[0m\n",
            "\u001b[0;31mKeyboardInterrupt\u001b[0m: "
          ]
        }
      ],
      "source": [
        "import threading\n",
        "import time\n",
        "from flask import Flask, request\n",
        "import os\n",
        "import subprocess\n",
        "\n",
        "# 安裝 ngrok v3\n",
        "!wget https://bin.equinox.io/c/bNyj1mQVY4c/ngrok-v3-stable-linux-amd64.tgz\n",
        "!tar -xvzf ngrok-v3-stable-linux-amd64.tgz\n",
        "!./ngrok config add-authtoken ....\n",
        "\n",
        "# 啟動 Flask\n",
        "app = Flask(__name__)\n",
        "\n",
        "accounts_dict = {\n",
        "    'user1234': {'password': '5678', 'name': '小明'},\n",
        "    'user5678': {'password': '1234', 'name': '阿美'}\n",
        "}\n",
        "\n",
        "login_form = '''\n",
        "<h2>ATM 登入系統</h2>\n",
        "<form method=\"POST\">\n",
        "    帳號：<input type=\"text\" name=\"username\"><br>\n",
        "    密碼：<input type=\"password\" name=\"password\"><br>\n",
        "    <input type=\"submit\" value=\"登入\">\n",
        "</form>\n",
        "'''\n",
        "\n",
        "@app.route('/', methods=['GET', 'POST'])\n",
        "def login():\n",
        "    if request.method == 'POST':\n",
        "        username = request.form.get('username')\n",
        "        password = request.form.get('password')\n",
        "\n",
        "        if username in accounts_dict and password == accounts_dict[username]['password']:\n",
        "            return f\"<h3>✅ 登入成功！歡迎 {accounts_dict[username]['name']}！</h3>\"\n",
        "        else:\n",
        "            return \"<h3>❌ 帳號或密碼錯誤！</h3>\" + login_form\n",
        "    return login_form\n",
        "\n",
        "# 啟動 Flask 的執行緒\n",
        "def run_flask():\n",
        "    app.run(host='0.0.0.0', port=5000)\n",
        "\n",
        "# 改進 subprocess（開啟 stdout 管道）\n",
        "def run_ngrok():\n",
        "    ngrok_process = subprocess.Popen(['./ngrok', 'http', '5000'],\n",
        "                                     stdout=subprocess.PIPE,\n",
        "                                     stderr=subprocess.PIPE)\n",
        "\n",
        "    while True:\n",
        "        line = ngrok_process.stdout.readline()\n",
        "        if not line:\n",
        "            break\n",
        "        print(line.decode().strip())\n",
        "\n",
        "# 開啟兩個 thread\n",
        "flask_thread = threading.Thread(target=run_flask)\n",
        "flask_thread.start()\n",
        "\n",
        "time.sleep(2)  # 等 Flask 啟動\n",
        "run_ngrok()    # 這裡直接跑 ngrok\n"
      ]
    },
    {
      "cell_type": "code",
      "execution_count": null,
      "metadata": {
        "colab": {
          "base_uri": "https://localhost:8080/"
        },
        "id": "JBsKTmGd9Y7m",
        "outputId": "a003eabc-f9d1-4d27-96a0-04e61ca46206"
      },
      "outputs": [
        {
          "name": "stdout",
          "output_type": "stream",
          "text": [
            "--2025-03-21 13:48:11--  https://bin.equinox.io/c/bNyj1mQVY4c/ngrok-v3-stable-linux-amd64.tgz\n",
            "Resolving bin.equinox.io (bin.equinox.io)... 75.2.60.68, 35.71.179.82, 13.248.244.96, ...\n",
            "Connecting to bin.equinox.io (bin.equinox.io)|75.2.60.68|:443... connected.\n",
            "HTTP request sent, awaiting response... 200 OK\n",
            "Length: 9372184 (8.9M) [application/octet-stream]\n",
            "Saving to: ‘ngrok-v3-stable-linux-amd64.tgz’\n",
            "\n",
            "ngrok-v3-stable-lin 100%[===================>]   8.94M  12.8MB/s    in 0.7s    \n",
            "\n",
            "2025-03-21 13:48:12 (12.8 MB/s) - ‘ngrok-v3-stable-linux-amd64.tgz’ saved [9372184/9372184]\n",
            "\n",
            "ngrok\n",
            "Authtoken saved to configuration file: /root/.config/ngrok/ngrok.yml\n",
            "🚀 Flask 伺服器啟動中...\n",
            " * Serving Flask app '__main__'\n",
            " * Debug mode: off\n"
          ]
        },
        {
          "name": "stderr",
          "output_type": "stream",
          "text": [
            "INFO:werkzeug:\u001b[31m\u001b[1mWARNING: This is a development server. Do not use it in a production deployment. Use a production WSGI server instead.\u001b[0m\n",
            " * Running on all addresses (0.0.0.0)\n",
            " * Running on http://127.0.0.1:5000\n",
            " * Running on http://172.28.0.12:5000\n",
            "INFO:werkzeug:\u001b[33mPress CTRL+C to quit\u001b[0m\n"
          ]
        },
        {
          "name": "stdout",
          "output_type": "stream",
          "text": [
            "🌐 Ngrok 隧道啟動中...\n"
          ]
        }
      ],
      "source": [
        "import threading\n",
        "import time\n",
        "from flask import Flask, request\n",
        "import os\n",
        "\n",
        "# 安裝 ngrok v3\n",
        "!wget https://bin.equinox.io/c/bNyj1mQVY4c/ngrok-v3-stable-linux-amd64.tgz\n",
        "!tar -xvzf ngrok-v3-stable-linux-amd64.tgz\n",
        "!./ngrok config add-authtoken\n",
        "\n",
        "# 啟動 Flask\n",
        "app = Flask(__name__)\n",
        "\n",
        "accounts_dict = {\n",
        "    'user1234': {'password': '5678', 'name': '小明'},\n",
        "    'user5678': {'password': '1234', 'name': '阿美'}\n",
        "}\n",
        "\n",
        "login_form = '''\n",
        "<h2>ATM 登入系統</h2>\n",
        "<form method=\"POST\">\n",
        "    帳號：<input type=\"text\" name=\"username\"><br>\n",
        "    密碼：<input type=\"password\" name=\"password\"><br>\n",
        "    <input type=\"submit\" value=\"登入\">\n",
        "</form>\n",
        "'''\n",
        "\n",
        "@app.route('/', methods=['GET', 'POST'])\n",
        "def login():\n",
        "    if request.method == 'POST':\n",
        "        username = request.form.get('username')\n",
        "        password = request.form.get('password')\n",
        "\n",
        "        if username in accounts_dict and password == accounts_dict[username]['password']:\n",
        "            return f\"<h3>✅ 登入成功！歡迎 {accounts_dict[username]['name']}！</h3>\"\n",
        "        else:\n",
        "            return \"<h3>❌ 帳號或密碼錯誤！</h3>\" + login_form\n",
        "    return login_form\n",
        "\n",
        "# 執行 Flask 的 thread\n",
        "def run_flask():\n",
        "    print(\"🚀 Flask 伺服器啟動中...\")\n",
        "    app.run(host='0.0.0.0', port=5000)\n",
        "\n",
        "# 執行 ngrok 的 thread\n",
        "def run_ngrok():\n",
        "    print(\"🌐 Ngrok 隧道啟動中...\")\n",
        "    os.system('./ngrok http 5000')\n",
        "\n",
        "# 啟動兩個執行緒\n",
        "flask_thread = threading.Thread(target=run_flask)\n",
        "ngrok_thread = threading.Thread(target=run_ngrok)\n",
        "\n",
        "flask_thread.start()\n",
        "time.sleep(3)  # 等待 Flask 啟動穩定\n",
        "ngrok_thread.start()\n"
      ]
    },
    {
      "cell_type": "markdown",
      "metadata": {
        "id": "3-rRIe1F_cC_"
      },
      "source": []
    },
    {
      "cell_type": "code",
      "execution_count": null,
      "metadata": {
        "colab": {
          "base_uri": "https://localhost:8080/"
        },
        "id": "UWBeeQKv_bHl",
        "outputId": "a3914bd1-d90f-4f50-f0bb-b22091ebd0bc"
      },
      "outputs": [
        {
          "name": "stdout",
          "output_type": "stream",
          "text": [
            "Collecting pyngrok\n",
            "  Downloading pyngrok-7.2.3-py3-none-any.whl.metadata (8.7 kB)\n",
            "Requirement already satisfied: PyYAML>=5.1 in /usr/local/lib/python3.11/dist-packages (from pyngrok) (6.0.2)\n",
            "Downloading pyngrok-7.2.3-py3-none-any.whl (23 kB)\n",
            "Installing collected packages: pyngrok\n",
            "Successfully installed pyngrok-7.2.3\n"
          ]
        }
      ],
      "source": [
        "!pip install pyngrok\n"
      ]
    },
    {
      "cell_type": "code",
      "execution_count": null,
      "metadata": {
        "colab": {
          "base_uri": "https://localhost:8080/",
          "height": 438
        },
        "id": "oY2G8ktt_hMF",
        "outputId": "05bb5ad8-5f74-432b-bfa5-8f5d36dde4ef"
      },
      "outputs": [
        {
          "name": "stdout",
          "output_type": "stream",
          "text": []
        },
        {
          "name": "stderr",
          "output_type": "stream",
          "text": [
            "ERROR:pyngrok.process.ngrok:t=2025-03-21T13:57:01+0000 lvl=eror msg=\"failed to reconnect session\" obj=tunnels.session err=\"authentication failed: Usage of ngrok requires a verified account and authtoken.\\n\\nSign up for an account: https://dashboard.ngrok.com/signup\\nInstall your authtoken: https://dashboard.ngrok.com/get-started/your-authtoken\\r\\n\\r\\nERR_NGROK_4018\\r\\n\"\n",
            "ERROR:pyngrok.process.ngrok:t=2025-03-21T13:57:01+0000 lvl=eror msg=\"session closing\" obj=tunnels.session err=\"authentication failed: Usage of ngrok requires a verified account and authtoken.\\n\\nSign up for an account: https://dashboard.ngrok.com/signup\\nInstall your authtoken: https://dashboard.ngrok.com/get-started/your-authtoken\\r\\n\\r\\nERR_NGROK_4018\\r\\n\"\n",
            "ERROR:pyngrok.process.ngrok:t=2025-03-21T13:57:01+0000 lvl=eror msg=\"terminating with error\" obj=app err=\"authentication failed: Usage of ngrok requires a verified account and authtoken.\\n\\nSign up for an account: https://dashboard.ngrok.com/signup\\nInstall your authtoken: https://dashboard.ngrok.com/get-started/your-authtoken\\r\\n\\r\\nERR_NGROK_4018\\r\\n\"\n",
            "CRITICAL:pyngrok.process.ngrok:t=2025-03-21T13:57:01+0000 lvl=crit msg=\"command failed\" err=\"authentication failed: Usage of ngrok requires a verified account and authtoken.\\n\\nSign up for an account: https://dashboard.ngrok.com/signup\\nInstall your authtoken: https://dashboard.ngrok.com/get-started/your-authtoken\\r\\n\\r\\nERR_NGROK_4018\\r\\n\"\n"
          ]
        },
        {
          "ename": "PyngrokNgrokError",
          "evalue": "The ngrok process errored on start: authentication failed: Usage of ngrok requires a verified account and authtoken.\\n\\nSign up for an account: https://dashboard.ngrok.com/signup\\nInstall your authtoken: https://dashboard.ngrok.com/get-started/your-authtoken\\r\\n\\r\\nERR_NGROK_4018\\r\\n.",
          "output_type": "error",
          "traceback": [
            "\u001b[0;31m---------------------------------------------------------------------------\u001b[0m",
            "\u001b[0;31mPyngrokNgrokError\u001b[0m                         Traceback (most recent call last)",
            "\u001b[0;32m<ipython-input-2-dcc017723fa1>\u001b[0m in \u001b[0;36m<cell line: 0>\u001b[0;34m()\u001b[0m\n\u001b[1;32m      1\u001b[0m \u001b[0;32mfrom\u001b[0m \u001b[0mpyngrok\u001b[0m \u001b[0;32mimport\u001b[0m \u001b[0mngrok\u001b[0m\u001b[0;34m\u001b[0m\u001b[0;34m\u001b[0m\u001b[0m\n\u001b[0;32m----> 2\u001b[0;31m \u001b[0mpublic_url\u001b[0m \u001b[0;34m=\u001b[0m \u001b[0mngrok\u001b[0m\u001b[0;34m.\u001b[0m\u001b[0mconnect\u001b[0m\u001b[0;34m(\u001b[0m\u001b[0;36m5000\u001b[0m\u001b[0;34m)\u001b[0m\u001b[0;34m\u001b[0m\u001b[0;34m\u001b[0m\u001b[0m\n\u001b[0m\u001b[1;32m      3\u001b[0m \u001b[0mprint\u001b[0m\u001b[0;34m(\u001b[0m\u001b[0mpublic_url\u001b[0m\u001b[0;34m)\u001b[0m\u001b[0;34m\u001b[0m\u001b[0;34m\u001b[0m\u001b[0m\n",
            "\u001b[0;32m/usr/local/lib/python3.11/dist-packages/pyngrok/ngrok.py\u001b[0m in \u001b[0;36mconnect\u001b[0;34m(addr, proto, name, pyngrok_config, **options)\u001b[0m\n\u001b[1;32m    349\u001b[0m     \u001b[0mlogger\u001b[0m\u001b[0;34m.\u001b[0m\u001b[0minfo\u001b[0m\u001b[0;34m(\u001b[0m\u001b[0;34mf\"Opening tunnel named: {name}\"\u001b[0m\u001b[0;34m)\u001b[0m\u001b[0;34m\u001b[0m\u001b[0;34m\u001b[0m\u001b[0m\n\u001b[1;32m    350\u001b[0m \u001b[0;34m\u001b[0m\u001b[0m\n\u001b[0;32m--> 351\u001b[0;31m     \u001b[0mapi_url\u001b[0m \u001b[0;34m=\u001b[0m \u001b[0mget_ngrok_process\u001b[0m\u001b[0;34m(\u001b[0m\u001b[0mpyngrok_config\u001b[0m\u001b[0;34m)\u001b[0m\u001b[0;34m.\u001b[0m\u001b[0mapi_url\u001b[0m\u001b[0;34m\u001b[0m\u001b[0;34m\u001b[0m\u001b[0m\n\u001b[0m\u001b[1;32m    352\u001b[0m \u001b[0;34m\u001b[0m\u001b[0m\n\u001b[1;32m    353\u001b[0m     \u001b[0mlogger\u001b[0m\u001b[0;34m.\u001b[0m\u001b[0mdebug\u001b[0m\u001b[0;34m(\u001b[0m\u001b[0;34mf\"Creating tunnel with options: {options}\"\u001b[0m\u001b[0;34m)\u001b[0m\u001b[0;34m\u001b[0m\u001b[0;34m\u001b[0m\u001b[0m\n",
            "\u001b[0;32m/usr/local/lib/python3.11/dist-packages/pyngrok/ngrok.py\u001b[0m in \u001b[0;36mget_ngrok_process\u001b[0;34m(pyngrok_config)\u001b[0m\n\u001b[1;32m    174\u001b[0m     \u001b[0minstall_ngrok\u001b[0m\u001b[0;34m(\u001b[0m\u001b[0mpyngrok_config\u001b[0m\u001b[0;34m)\u001b[0m\u001b[0;34m\u001b[0m\u001b[0;34m\u001b[0m\u001b[0m\n\u001b[1;32m    175\u001b[0m \u001b[0;34m\u001b[0m\u001b[0m\n\u001b[0;32m--> 176\u001b[0;31m     \u001b[0;32mreturn\u001b[0m \u001b[0mprocess\u001b[0m\u001b[0;34m.\u001b[0m\u001b[0mget_process\u001b[0m\u001b[0;34m(\u001b[0m\u001b[0mpyngrok_config\u001b[0m\u001b[0;34m)\u001b[0m\u001b[0;34m\u001b[0m\u001b[0;34m\u001b[0m\u001b[0m\n\u001b[0m\u001b[1;32m    177\u001b[0m \u001b[0;34m\u001b[0m\u001b[0m\n\u001b[1;32m    178\u001b[0m \u001b[0;34m\u001b[0m\u001b[0m\n",
            "\u001b[0;32m/usr/local/lib/python3.11/dist-packages/pyngrok/process.py\u001b[0m in \u001b[0;36mget_process\u001b[0;34m(pyngrok_config)\u001b[0m\n\u001b[1;32m    263\u001b[0m         \u001b[0;32mreturn\u001b[0m \u001b[0m_current_processes\u001b[0m\u001b[0;34m[\u001b[0m\u001b[0mpyngrok_config\u001b[0m\u001b[0;34m.\u001b[0m\u001b[0mngrok_path\u001b[0m\u001b[0;34m]\u001b[0m\u001b[0;34m\u001b[0m\u001b[0;34m\u001b[0m\u001b[0m\n\u001b[1;32m    264\u001b[0m \u001b[0;34m\u001b[0m\u001b[0m\n\u001b[0;32m--> 265\u001b[0;31m     \u001b[0;32mreturn\u001b[0m \u001b[0m_start_process\u001b[0m\u001b[0;34m(\u001b[0m\u001b[0mpyngrok_config\u001b[0m\u001b[0;34m)\u001b[0m\u001b[0;34m\u001b[0m\u001b[0;34m\u001b[0m\u001b[0m\n\u001b[0m\u001b[1;32m    266\u001b[0m \u001b[0;34m\u001b[0m\u001b[0m\n\u001b[1;32m    267\u001b[0m \u001b[0;34m\u001b[0m\u001b[0m\n",
            "\u001b[0;32m/usr/local/lib/python3.11/dist-packages/pyngrok/process.py\u001b[0m in \u001b[0;36m_start_process\u001b[0;34m(pyngrok_config)\u001b[0m\n\u001b[1;32m    426\u001b[0m \u001b[0;34m\u001b[0m\u001b[0m\n\u001b[1;32m    427\u001b[0m         \u001b[0;32mif\u001b[0m \u001b[0mngrok_process\u001b[0m\u001b[0;34m.\u001b[0m\u001b[0mstartup_error\u001b[0m \u001b[0;32mis\u001b[0m \u001b[0;32mnot\u001b[0m \u001b[0;32mNone\u001b[0m\u001b[0;34m:\u001b[0m\u001b[0;34m\u001b[0m\u001b[0;34m\u001b[0m\u001b[0m\n\u001b[0;32m--> 428\u001b[0;31m             raise PyngrokNgrokError(f\"The ngrok process errored on start: {ngrok_process.startup_error}.\",\n\u001b[0m\u001b[1;32m    429\u001b[0m                                     \u001b[0mngrok_process\u001b[0m\u001b[0;34m.\u001b[0m\u001b[0mlogs\u001b[0m\u001b[0;34m,\u001b[0m\u001b[0;34m\u001b[0m\u001b[0;34m\u001b[0m\u001b[0m\n\u001b[1;32m    430\u001b[0m                                     ngrok_process.startup_error)\n",
            "\u001b[0;31mPyngrokNgrokError\u001b[0m: The ngrok process errored on start: authentication failed: Usage of ngrok requires a verified account and authtoken.\\n\\nSign up for an account: https://dashboard.ngrok.com/signup\\nInstall your authtoken: https://dashboard.ngrok.com/get-started/your-authtoken\\r\\n\\r\\nERR_NGROK_4018\\r\\n."
          ]
        }
      ],
      "source": [
        "from pyngrok import ngrok\n",
        "public_url = ngrok.connect(5000)\n",
        "print(public_url)\n"
      ]
    },
    {
      "cell_type": "code",
      "execution_count": null,
      "metadata": {
        "colab": {
          "base_uri": "https://localhost:8080/",
          "height": 144
        },
        "id": "UqvxtfaS_lsZ",
        "outputId": "0c185b7b-25e5-4785-dea6-a46ad5fc913b"
      },
      "outputs": [
        {
          "ename": "NameError",
          "evalue": "name 'app' is not defined",
          "output_type": "error",
          "traceback": [
            "\u001b[0;31m---------------------------------------------------------------------------\u001b[0m",
            "\u001b[0;31mNameError\u001b[0m                                 Traceback (most recent call last)",
            "\u001b[0;32m<ipython-input-3-b72f3165c8a5>\u001b[0m in \u001b[0;36m<cell line: 0>\u001b[0;34m()\u001b[0m\n\u001b[0;32m----> 1\u001b[0;31m \u001b[0mapp\u001b[0m\u001b[0;34m.\u001b[0m\u001b[0mrun\u001b[0m\u001b[0;34m(\u001b[0m\u001b[0;34m)\u001b[0m\u001b[0;34m\u001b[0m\u001b[0;34m\u001b[0m\u001b[0m\n\u001b[0m",
            "\u001b[0;31mNameError\u001b[0m: name 'app' is not defined"
          ]
        }
      ],
      "source": [
        "app.run()\n"
      ]
    },
    {
      "cell_type": "code",
      "execution_count": null,
      "metadata": {
        "colab": {
          "base_uri": "https://localhost:8080/",
          "height": 474
        },
        "id": "wq2JSZgy_r3J",
        "outputId": "14f2d5d9-9bf7-4b74-8ff5-8fdb7ab00e54"
      },
      "outputs": [
        {
          "name": "stderr",
          "output_type": "stream",
          "text": [
            "ERROR:pyngrok.process.ngrok:t=2025-03-21T13:57:47+0000 lvl=eror msg=\"failed to reconnect session\" obj=tunnels.session err=\"authentication failed: Usage of ngrok requires a verified account and authtoken.\\n\\nSign up for an account: https://dashboard.ngrok.com/signup\\nInstall your authtoken: https://dashboard.ngrok.com/get-started/your-authtoken\\r\\n\\r\\nERR_NGROK_4018\\r\\n\"\n",
            "ERROR:pyngrok.process.ngrok:t=2025-03-21T13:57:47+0000 lvl=eror msg=\"session closing\" obj=tunnels.session err=\"authentication failed: Usage of ngrok requires a verified account and authtoken.\\n\\nSign up for an account: https://dashboard.ngrok.com/signup\\nInstall your authtoken: https://dashboard.ngrok.com/get-started/your-authtoken\\r\\n\\r\\nERR_NGROK_4018\\r\\n\"\n",
            "ERROR:pyngrok.process.ngrok:t=2025-03-21T13:57:47+0000 lvl=eror msg=\"terminating with error\" obj=app err=\"authentication failed: Usage of ngrok requires a verified account and authtoken.\\n\\nSign up for an account: https://dashboard.ngrok.com/signup\\nInstall your authtoken: https://dashboard.ngrok.com/get-started/your-authtoken\\r\\n\\r\\nERR_NGROK_4018\\r\\n\"\n",
            "CRITICAL:pyngrok.process.ngrok:t=2025-03-21T13:57:47+0000 lvl=crit msg=\"command failed\" err=\"authentication failed: Usage of ngrok requires a verified account and authtoken.\\n\\nSign up for an account: https://dashboard.ngrok.com/signup\\nInstall your authtoken: https://dashboard.ngrok.com/get-started/your-authtoken\\r\\n\\r\\nERR_NGROK_4018\\r\\n\"\n"
          ]
        },
        {
          "ename": "PyngrokNgrokError",
          "evalue": "The ngrok process errored on start: authentication failed: Usage of ngrok requires a verified account and authtoken.\\n\\nSign up for an account: https://dashboard.ngrok.com/signup\\nInstall your authtoken: https://dashboard.ngrok.com/get-started/your-authtoken\\r\\n\\r\\nERR_NGROK_4018\\r\\n.",
          "output_type": "error",
          "traceback": [
            "\u001b[0;31m---------------------------------------------------------------------------\u001b[0m",
            "\u001b[0;31mPyngrokNgrokError\u001b[0m                         Traceback (most recent call last)",
            "\u001b[0;32m<ipython-input-4-e6b1dea4ec97>\u001b[0m in \u001b[0;36m<cell line: 0>\u001b[0;34m()\u001b[0m\n\u001b[1;32m     39\u001b[0m \u001b[0;34m\u001b[0m\u001b[0m\n\u001b[1;32m     40\u001b[0m \u001b[0;31m# 啟動 ngrok 隧道，監聽 5000 port\u001b[0m\u001b[0;34m\u001b[0m\u001b[0;34m\u001b[0m\u001b[0m\n\u001b[0;32m---> 41\u001b[0;31m \u001b[0mpublic_url\u001b[0m \u001b[0;34m=\u001b[0m \u001b[0mngrok\u001b[0m\u001b[0;34m.\u001b[0m\u001b[0mconnect\u001b[0m\u001b[0;34m(\u001b[0m\u001b[0;36m5000\u001b[0m\u001b[0;34m)\u001b[0m\u001b[0;34m\u001b[0m\u001b[0;34m\u001b[0m\u001b[0m\n\u001b[0m\u001b[1;32m     42\u001b[0m \u001b[0mprint\u001b[0m\u001b[0;34m(\u001b[0m\u001b[0;34mf\"🌍 Ngrok 公開網址: {public_url}\"\u001b[0m\u001b[0;34m)\u001b[0m\u001b[0;34m\u001b[0m\u001b[0;34m\u001b[0m\u001b[0m\n\u001b[1;32m     43\u001b[0m \u001b[0;34m\u001b[0m\u001b[0m\n",
            "\u001b[0;32m/usr/local/lib/python3.11/dist-packages/pyngrok/ngrok.py\u001b[0m in \u001b[0;36mconnect\u001b[0;34m(addr, proto, name, pyngrok_config, **options)\u001b[0m\n\u001b[1;32m    349\u001b[0m     \u001b[0mlogger\u001b[0m\u001b[0;34m.\u001b[0m\u001b[0minfo\u001b[0m\u001b[0;34m(\u001b[0m\u001b[0;34mf\"Opening tunnel named: {name}\"\u001b[0m\u001b[0;34m)\u001b[0m\u001b[0;34m\u001b[0m\u001b[0;34m\u001b[0m\u001b[0m\n\u001b[1;32m    350\u001b[0m \u001b[0;34m\u001b[0m\u001b[0m\n\u001b[0;32m--> 351\u001b[0;31m     \u001b[0mapi_url\u001b[0m \u001b[0;34m=\u001b[0m \u001b[0mget_ngrok_process\u001b[0m\u001b[0;34m(\u001b[0m\u001b[0mpyngrok_config\u001b[0m\u001b[0;34m)\u001b[0m\u001b[0;34m.\u001b[0m\u001b[0mapi_url\u001b[0m\u001b[0;34m\u001b[0m\u001b[0;34m\u001b[0m\u001b[0m\n\u001b[0m\u001b[1;32m    352\u001b[0m \u001b[0;34m\u001b[0m\u001b[0m\n\u001b[1;32m    353\u001b[0m     \u001b[0mlogger\u001b[0m\u001b[0;34m.\u001b[0m\u001b[0mdebug\u001b[0m\u001b[0;34m(\u001b[0m\u001b[0;34mf\"Creating tunnel with options: {options}\"\u001b[0m\u001b[0;34m)\u001b[0m\u001b[0;34m\u001b[0m\u001b[0;34m\u001b[0m\u001b[0m\n",
            "\u001b[0;32m/usr/local/lib/python3.11/dist-packages/pyngrok/ngrok.py\u001b[0m in \u001b[0;36mget_ngrok_process\u001b[0;34m(pyngrok_config)\u001b[0m\n\u001b[1;32m    174\u001b[0m     \u001b[0minstall_ngrok\u001b[0m\u001b[0;34m(\u001b[0m\u001b[0mpyngrok_config\u001b[0m\u001b[0;34m)\u001b[0m\u001b[0;34m\u001b[0m\u001b[0;34m\u001b[0m\u001b[0m\n\u001b[1;32m    175\u001b[0m \u001b[0;34m\u001b[0m\u001b[0m\n\u001b[0;32m--> 176\u001b[0;31m     \u001b[0;32mreturn\u001b[0m \u001b[0mprocess\u001b[0m\u001b[0;34m.\u001b[0m\u001b[0mget_process\u001b[0m\u001b[0;34m(\u001b[0m\u001b[0mpyngrok_config\u001b[0m\u001b[0;34m)\u001b[0m\u001b[0;34m\u001b[0m\u001b[0;34m\u001b[0m\u001b[0m\n\u001b[0m\u001b[1;32m    177\u001b[0m \u001b[0;34m\u001b[0m\u001b[0m\n\u001b[1;32m    178\u001b[0m \u001b[0;34m\u001b[0m\u001b[0m\n",
            "\u001b[0;32m/usr/local/lib/python3.11/dist-packages/pyngrok/process.py\u001b[0m in \u001b[0;36mget_process\u001b[0;34m(pyngrok_config)\u001b[0m\n\u001b[1;32m    263\u001b[0m         \u001b[0;32mreturn\u001b[0m \u001b[0m_current_processes\u001b[0m\u001b[0;34m[\u001b[0m\u001b[0mpyngrok_config\u001b[0m\u001b[0;34m.\u001b[0m\u001b[0mngrok_path\u001b[0m\u001b[0;34m]\u001b[0m\u001b[0;34m\u001b[0m\u001b[0;34m\u001b[0m\u001b[0m\n\u001b[1;32m    264\u001b[0m \u001b[0;34m\u001b[0m\u001b[0m\n\u001b[0;32m--> 265\u001b[0;31m     \u001b[0;32mreturn\u001b[0m \u001b[0m_start_process\u001b[0m\u001b[0;34m(\u001b[0m\u001b[0mpyngrok_config\u001b[0m\u001b[0;34m)\u001b[0m\u001b[0;34m\u001b[0m\u001b[0;34m\u001b[0m\u001b[0m\n\u001b[0m\u001b[1;32m    266\u001b[0m \u001b[0;34m\u001b[0m\u001b[0m\n\u001b[1;32m    267\u001b[0m \u001b[0;34m\u001b[0m\u001b[0m\n",
            "\u001b[0;32m/usr/local/lib/python3.11/dist-packages/pyngrok/process.py\u001b[0m in \u001b[0;36m_start_process\u001b[0;34m(pyngrok_config)\u001b[0m\n\u001b[1;32m    426\u001b[0m \u001b[0;34m\u001b[0m\u001b[0m\n\u001b[1;32m    427\u001b[0m         \u001b[0;32mif\u001b[0m \u001b[0mngrok_process\u001b[0m\u001b[0;34m.\u001b[0m\u001b[0mstartup_error\u001b[0m \u001b[0;32mis\u001b[0m \u001b[0;32mnot\u001b[0m \u001b[0;32mNone\u001b[0m\u001b[0;34m:\u001b[0m\u001b[0;34m\u001b[0m\u001b[0;34m\u001b[0m\u001b[0m\n\u001b[0;32m--> 428\u001b[0;31m             raise PyngrokNgrokError(f\"The ngrok process errored on start: {ngrok_process.startup_error}.\",\n\u001b[0m\u001b[1;32m    429\u001b[0m                                     \u001b[0mngrok_process\u001b[0m\u001b[0;34m.\u001b[0m\u001b[0mlogs\u001b[0m\u001b[0;34m,\u001b[0m\u001b[0;34m\u001b[0m\u001b[0;34m\u001b[0m\u001b[0m\n\u001b[1;32m    430\u001b[0m                                     ngrok_process.startup_error)\n",
            "\u001b[0;31mPyngrokNgrokError\u001b[0m: The ngrok process errored on start: authentication failed: Usage of ngrok requires a verified account and authtoken.\\n\\nSign up for an account: https://dashboard.ngrok.com/signup\\nInstall your authtoken: https://dashboard.ngrok.com/get-started/your-authtoken\\r\\n\\r\\nERR_NGROK_4018\\r\\n."
          ]
        }
      ],
      "source": [
        "# 安裝 pyngrok\n",
        "#!pip install pyngrok\n",
        "\n",
        "# 匯入套件\n",
        "from flask import Flask, request\n",
        "from pyngrok import ngrok\n",
        "\n",
        "# 建立 Flask app\n",
        "app = Flask(__name__)\n",
        "\n",
        "# 帳號資料\n",
        "accounts_dict = {\n",
        "    'user1234': {'password': '5678', 'name': '小明'},\n",
        "    'user5678': {'password': '1234', 'name': '阿美'}\n",
        "}\n",
        "\n",
        "# HTML 表單\n",
        "login_form = '''\n",
        "<h2>ATM 登入系統</h2>\n",
        "<form method=\"POST\">\n",
        "    帳號：<input type=\"text\" name=\"username\"><br>\n",
        "    密碼：<input type=\"password\" name=\"password\"><br>\n",
        "    <input type=\"submit\" value=\"登入\">\n",
        "</form>\n",
        "'''\n",
        "\n",
        "# 網頁路由\n",
        "@app.route('/', methods=['GET', 'POST'])\n",
        "def login():\n",
        "    if request.method == 'POST':\n",
        "        username = request.form.get('username')\n",
        "        password = request.form.get('password')\n",
        "\n",
        "        if username in accounts_dict and password == accounts_dict[username]['password']:\n",
        "            return f\"<h3>✅ 登入成功！歡迎 {accounts_dict[username]['name']}！</h3>\"\n",
        "        else:\n",
        "            return \"<h3>❌ 帳號或密碼錯誤！</h3>\" + login_form\n",
        "    return login_form\n",
        "\n",
        "# 啟動 ngrok 隧道，監聽 5000 port\n",
        "public_url = ngrok.connect(5000)\n",
        "print(f\"🌍 Ngrok 公開網址: {public_url}\")\n",
        "\n",
        "# 啟動 Flask 伺服器\n",
        "app.run(host='0.0.0.0', port=5000)\n"
      ]
    }
  ],
  "metadata": {
    "colab": {
      "provenance": [],
      "authorship_tag": "ABX9TyMzAvBMfVhKP4E3DwsTr3aD",
      "include_colab_link": true
    },
    "kernelspec": {
      "display_name": "Python 3",
      "name": "python3"
    },
    "language_info": {
      "name": "python"
    }
  },
  "nbformat": 4,
  "nbformat_minor": 0
}