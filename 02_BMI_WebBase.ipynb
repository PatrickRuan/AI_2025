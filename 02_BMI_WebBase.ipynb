{
  "nbformat": 4,
  "nbformat_minor": 0,
  "metadata": {
    "colab": {
      "provenance": [],
      "authorship_tag": "ABX9TyMtrL0cm4R+7bwVPIyV5aGB",
      "include_colab_link": true
    },
    "kernelspec": {
      "name": "python3",
      "display_name": "Python 3"
    },
    "language_info": {
      "name": "python"
    }
  },
  "cells": [
    {
      "cell_type": "markdown",
      "metadata": {
        "id": "view-in-github",
        "colab_type": "text"
      },
      "source": [
        "<a href=\"https://colab.research.google.com/github/PatrickRuan/AI_2025/blob/main/02_BMI_WebBase.ipynb\" target=\"_parent\"><img src=\"https://colab.research.google.com/assets/colab-badge.svg\" alt=\"Open In Colab\"/></a>"
      ]
    },
    {
      "cell_type": "markdown",
      "source": [
        "[02.BMI_WebBase](https://chatgpt.com/share/67de7c13-864c-8009-94d9-0c57751241bc)"
      ],
      "metadata": {
        "id": "ga8Zf6EAC_AD"
      }
    },
    {
      "cell_type": "code",
      "source": [
        "!pip install pyngrok\n",
        "\n",
        "from flask import Flask, request\n",
        "from pyngrok import ngrok, conf\n",
        "from getpass import getpass\n",
        "\n",
        "# 輸入 ngrok authtoken\n",
        "auth_token = getpass(\"請輸入你的 ngrok authtoken：\")\n",
        "\n",
        "\n",
        "\n",
        "# 設定 authtoken\n",
        "conf.get_default().auth_token = auth_token\n",
        "\n",
        "# 啟用 ngrok 隧道\n",
        "public_url = ngrok.connect(5000)\n",
        "print(f\"🌍 Ngrok 公開網址: {public_url}\")\n",
        "\n",
        "# 建立 Flask 應用\n",
        "app = Flask(__name__)\n",
        "\n",
        "# BMI 計算頁面 HTML\n",
        "bmi_form = '''\n",
        "<h2>BMI 計算機</h2>\n",
        "<form method=\"POST\">\n",
        "    請輸入您的身高（公分）：<br>\n",
        "    <input type=\"number\" name=\"height_cm\" step=\"0.01\" required><br><br>\n",
        "    請輸入您的體重（公斤）：<br>\n",
        "    <input type=\"number\" name=\"weight_kg\" step=\"0.01\" required><br><br>\n",
        "    <input type=\"submit\" value=\"計算 BMI\">\n",
        "</form>\n",
        "'''\n",
        "\n",
        "# 路由與邏輯\n",
        "@app.route('/', methods=['GET', 'POST'])\n",
        "def bmi_calculator():\n",
        "    if request.method == 'POST':\n",
        "        try:\n",
        "            height_cm = float(request.form.get('height_cm'))\n",
        "            weight_kg = float(request.form.get('weight_kg'))\n",
        "\n",
        "            height_m = height_cm / 100\n",
        "            bmi = weight_kg / (height_m ** 2)\n",
        "\n",
        "            # 根據 BMI 值給出建議\n",
        "            if bmi < 18.5:\n",
        "                suggestion = \"過輕，建議多攝取營養並注意身體狀況。\"\n",
        "            elif 18.5 <= bmi < 24:\n",
        "                suggestion = \"正常，保持良好的飲食與運動習慣！\"\n",
        "            elif 24 <= bmi < 27:\n",
        "                suggestion = \"過重，建議增加運動量並控制飲食。\"\n",
        "            else:\n",
        "                suggestion = \"肥胖，建議諮詢專業醫師，調整生活方式。\"\n",
        "\n",
        "            result = f'''\n",
        "            <h3>您的 BMI 為：{bmi:.2f}</h3>\n",
        "            <p>健康建議：{suggestion}</p>\n",
        "            <a href=\"/\">🔙 回到首頁</a>\n",
        "            '''\n",
        "            return result\n",
        "        except Exception as e:\n",
        "            return f\"<h3>❌ 發生錯誤：{str(e)}</h3><a href='/'>🔙 回到首頁</a>\"\n",
        "\n",
        "    return bmi_form\n",
        "\n",
        "# 啟動 Flask 伺服器\n",
        "app.run(host='0.0.0.0', port=5000)\n"
      ],
      "metadata": {
        "colab": {
          "base_uri": "https://localhost:8080/"
        },
        "id": "OPmzfiybC_HN",
        "outputId": "ea62e24f-49c3-4893-ef93-30b5a8edd783"
      },
      "execution_count": null,
      "outputs": [
        {
          "output_type": "stream",
          "name": "stdout",
          "text": [
            "Collecting pyngrok\n",
            "  Downloading pyngrok-7.2.3-py3-none-any.whl.metadata (8.7 kB)\n",
            "Requirement already satisfied: PyYAML>=5.1 in /usr/local/lib/python3.11/dist-packages (from pyngrok) (6.0.2)\n",
            "Downloading pyngrok-7.2.3-py3-none-any.whl (23 kB)\n",
            "Installing collected packages: pyngrok\n",
            "Successfully installed pyngrok-7.2.3\n",
            "請輸入你的 ngrok authtoken：··········\n",
            "🌍 Ngrok 公開網址: NgrokTunnel: \"https://1df2-34-125-179-40.ngrok-free.app\" -> \"http://localhost:5000\"\n",
            " * Serving Flask app '__main__'\n",
            " * Debug mode: off\n"
          ]
        },
        {
          "output_type": "stream",
          "name": "stderr",
          "text": [
            "INFO:werkzeug:\u001b[31m\u001b[1mWARNING: This is a development server. Do not use it in a production deployment. Use a production WSGI server instead.\u001b[0m\n",
            " * Running on all addresses (0.0.0.0)\n",
            " * Running on http://127.0.0.1:5000\n",
            " * Running on http://172.28.0.12:5000\n",
            "INFO:werkzeug:\u001b[33mPress CTRL+C to quit\u001b[0m\n",
            "INFO:werkzeug:127.0.0.1 - - [01/Apr/2025 01:31:48] \"GET / HTTP/1.1\" 200 -\n",
            "INFO:werkzeug:127.0.0.1 - - [01/Apr/2025 01:31:49] \"\u001b[33mGET /favicon.ico HTTP/1.1\u001b[0m\" 404 -\n",
            "INFO:werkzeug:127.0.0.1 - - [01/Apr/2025 01:32:00] \"POST / HTTP/1.1\" 200 -\n",
            "INFO:werkzeug:127.0.0.1 - - [01/Apr/2025 01:32:02] \"GET / HTTP/1.1\" 200 -\n",
            "INFO:werkzeug:127.0.0.1 - - [01/Apr/2025 01:32:12] \"POST / HTTP/1.1\" 200 -\n"
          ]
        }
      ]
    }
  ]
}