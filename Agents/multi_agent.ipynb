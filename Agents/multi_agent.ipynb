{
  "cells": [
    {
      "cell_type": "markdown",
      "metadata": {
        "id": "view-in-github",
        "colab_type": "text"
      },
      "source": [
        "<a href=\"https://colab.research.google.com/github/PatrickRuan/AI_2025/blob/main/Agents/multi_agent.ipynb\" target=\"_parent\"><img src=\"https://colab.research.google.com/assets/colab-badge.svg\" alt=\"Open In Colab\"/></a>"
      ]
    },
    {
      "cell_type": "markdown",
      "source": [
        "code is from chatgpt"
      ],
      "metadata": {
        "id": "q3zPon15A396"
      },
      "id": "q3zPon15A396"
    },
    {
      "cell_type": "code",
      "execution_count": null,
      "id": "e4f0d797",
      "metadata": {
        "id": "e4f0d797",
        "outputId": "e6d68916-d5c6-4677-f20e-a25ee5d32b08"
      },
      "outputs": [
        {
          "name": "stdout",
          "output_type": "stream",
          "text": [
            "=== 啟動本地 A2A 模擬對話 ===\n",
            "[Agent A]：您好，很高興能為您提供影片剪輯筆電的建議。首先，請您告訴我一些關於您影片剪輯的資訊，這能幫助我更精準地推薦適合您的電腦：\n",
            "\n",
            "1. **您預算大概是多少？** （例如：5000元以下、5000-10000元、10000-20000元、20000元以上）\n",
            "2. **您主要剪輯什麼樣的影片？** (例如：短片、長片、Vlog、遊戲影片、直播等)\n",
            "3. **您主要使用什麼軟體？** (例如：Adobe Premiere Pro、Final Cut Pro、DaVinci Resolve)\n",
            "4. **您希望影片輸出是什麼解析度？** (例如：1080p、4K)\n",
            "5. **您是否需要經常攜帶筆電？** (如果需要攜帶，便需要考慮重量和續航力)\n",
            "6. **除了影片剪輯，您還會用筆電做什麼？** (例如：瀏覽網頁、辦公、繪圖等)\n",
            "\n",
            "先回答這些問題，我才能根據您的需求，推薦最適合您的筆電。\n",
            "\n",
            "**但為了讓您對影片剪輯筆電的選擇有個初步的了解，我可以先提供一些常見的選擇和考慮因素：**\n",
            "\n",
            "**核心規格：**\n",
            "\n",
            "* **處理器 (CPU):** 影片剪輯需要較好的處理器性能，建議選擇 Intel Core i7 或 AMD Ryzen 7 系列或以上。\n",
            "* **記憶體 (RAM):** 至少 16GB，32GB 或以上會讓剪輯過程更流暢。\n",
            "* **儲存空間 (Storage):** 建議選擇 SSD (固態硬碟) 來提高讀寫速度，容量至少 512GB，如果需要儲存大量的素材，可以考慮 1TB 或以上。\n",
            "* **顯示卡 (GPU):** 獨立顯示卡 (NVIDIA GeForce 或 AMD Radeon) 能提升影片編輯的效率，尤其是處理 4K 影片時。\n",
            "\n",
            "**筆電類型：**\n",
            "\n",
            "* **輕薄型筆電 (Ultrabook):** 如果您經常需要攜帶筆電，輕薄型筆電是個不錯的選擇，但可能在性能上會有所妥協。\n",
            "* **高性能筆電 (Gaming Laptop):**  通常擁有更強大的處理器、獨立顯示卡和散熱系統，適合需要處理高解析度影片或複雜特效的用戶。\n",
            "* **專業筆電 (Creator Laptop):** 這類筆電通常專為內容創作者設計，擁有更好的顯示器、鍵盤和音效。\n",
            "\n",
            "**我可以先提供一些初步的推薦：**\n",
            "\n",
            "* **預算5000元以下:**  可能會需要犧牲一些性能，但可以考慮二手或入門級的筆電，例如 ASUS Vivobook 系列或 Acer Aspire 系列。\n",
            "* **預算5000-10000元:**  可以考慮 ASUS Zenbook 系列、Acer Swift X 系列 或 Lenovo IdeaPad 系列。\n",
            "* **預算10000-20000元:** 可以考慮 MacBook Air (M1/M2) 或 MacBook Pro (M1/M2/M3)，或是 ASUS ROG Zephyrus 系列、Lenovo Legion 系列 等高性能筆電。\n",
            "\n",
            "請您先回答我前面的問題，我才能為您推薦更適合您的筆電。\n",
            "\n",
            "\n",
            "[Agent B]：好的，非常感謝您的詳細說明！讓我來回答您關於影片剪輯的幾個問題：\n",
            "\n",
            "1. **預算大概是多少？** 我的預算大概在 **8000 - 12000 元** 之間。我希望盡量在預算範圍內獲得最好的性能。\n",
            "\n",
            "2. **您主要剪輯什麼樣的影片？** 我主要剪輯 **Vlog 和一些短片**，內容主要是生活記錄、旅行，以及一些簡單的特效和轉場。對影片的複雜度要求不高，主要是想在剪輯過程中保持流暢，而不是追求極致的視覺效果。\n",
            "\n",
            "3. **您主要使用什麼軟體？** 我主要使用 **Adobe Premiere Pro**。\n",
            "\n",
            "4. **您希望影片輸出是什麼解析度？** 我主要輸出 **1080p**，偶爾會輸出 4K 測試。\n",
            "\n",
            "5. **您是否需要經常攜帶筆電？** 需要，我希望筆電 **輕巧便攜**，方便隨時隨地剪輯。\n",
            "\n",
            "6. **除了影片剪輯，您還會用筆電做什麼？** 我會用筆電處理文件、瀏覽網頁、看影片、以及一些簡單的文書處理。\n",
            "\n",
            "希望這些資訊能幫助您推薦適合我的筆電！ 謝謝！\n",
            "\n",
            "\n"
          ]
        }
      ],
      "source": [
        "import ollama\n",
        "\n",
        "# 定義角色 prompt\n",
        "AGENT_A_PROMPT = \"你是一位顧客，想要購買一台筆電來做影片剪輯，請詢問電腦顧問的建議。\"\n",
        "AGENT_B_PROMPT = \"你是一位專業電腦顧問，請根據顧客的需求推薦一台適合影片剪輯的筆電，並解釋原因。\"\n",
        "\n",
        "def ask_ollama(model: str, system_prompt: str, user_input: str) -> str:\n",
        "    response = ollama.chat(\n",
        "        model=model,\n",
        "        messages=[\n",
        "            {'role': 'system', 'content': system_prompt},\n",
        "            {'role': 'user', 'content': user_input}\n",
        "        ]\n",
        "    )\n",
        "    return response['message']['content']\n",
        "\n",
        "def run_local_a2a(model='gemma3:4b-it-qat'):\n",
        "    print(\"=== 啟動本地 A2A 模擬對話 ===\")\n",
        "\n",
        "    # Agent A 提問\n",
        "    question = ask_ollama(model, AGENT_A_PROMPT, \"請給我建議\")\n",
        "    print(f\"[Agent A]：{question}\\n\")\n",
        "\n",
        "    # Agent B 回覆\n",
        "    answer = ask_ollama(model, AGENT_B_PROMPT, question)\n",
        "    print(f\"[Agent B]：{answer}\\n\")\n",
        "\n",
        "if __name__ == \"__main__\":\n",
        "    run_local_a2a()\n"
      ]
    }
  ],
  "metadata": {
    "kernelspec": {
      "display_name": "python3_11_7",
      "language": "python",
      "name": "python3"
    },
    "language_info": {
      "codemirror_mode": {
        "name": "ipython",
        "version": 3
      },
      "file_extension": ".py",
      "mimetype": "text/x-python",
      "name": "python",
      "nbconvert_exporter": "python",
      "pygments_lexer": "ipython3",
      "version": "3.11.5"
    },
    "colab": {
      "provenance": [],
      "include_colab_link": true
    }
  },
  "nbformat": 4,
  "nbformat_minor": 5
}