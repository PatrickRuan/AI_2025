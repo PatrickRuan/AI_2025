{
  "nbformat": 4,
  "nbformat_minor": 0,
  "metadata": {
    "colab": {
      "provenance": [],
      "gpuType": "T4",
      "authorship_tag": "ABX9TyMgB8NEyNGLYn7Ab4LPArCI",
      "include_colab_link": true
    },
    "kernelspec": {
      "name": "python3",
      "display_name": "Python 3"
    },
    "language_info": {
      "name": "python"
    },
    "accelerator": "GPU"
  },
  "cells": [
    {
      "cell_type": "markdown",
      "metadata": {
        "id": "view-in-github",
        "colab_type": "text"
      },
      "source": [
        "<a href=\"https://colab.research.google.com/github/PatrickRuan/AI_2025/blob/main/07_ollama_web_in_memory_asyn_colab.ipynb\" target=\"_parent\"><img src=\"https://colab.research.google.com/assets/colab-badge.svg\" alt=\"Open In Colab\"/></a>"
      ]
    },
    {
      "cell_type": "code",
      "execution_count": 1,
      "metadata": {
        "colab": {
          "base_uri": "https://localhost:8080/"
        },
        "id": "pLmdp93aykIG",
        "outputId": "09b45f30-5603-4b4a-fa5d-fcba479b95b7"
      },
      "outputs": [
        {
          "output_type": "stream",
          "name": "stdout",
          "text": [
            "✅ 模型下載完成！\n"
          ]
        }
      ],
      "source": [
        "# Colab_Ollama_Flask_ngrok_Demo.ipynb\n",
        "\n",
        "# 安裝必要套件\n",
        "!pip install --upgrade openai flask pyngrok\n",
        "\n",
        "# 啟動 Ollama (注意：Colab 通常無法直接安裝與啟動 Ollama，需要自己有伺服器)\n",
        "# 如果本地安裝且能啟動 Ollama，則用以下命令：\n",
        "!curl -fsSL https://ollama.com/install.sh | sh\n",
        "!nohup ollama serve > ollama.log 2>&1 &\n",
        "!sleep 5\n",
        "!ollama pull gemma3:4b\n",
        "from IPython.display import clear_output\n",
        "clear_output(wait=True)\n",
        "print(\"✅ 模型下載完成！\")"
      ]
    },
    {
      "cell_type": "code",
      "source": [
        "\n",
        "# 設定 Ngrok 連線\n",
        "from pyngrok import ngrok, conf\n",
        "from getpass import getpass\n",
        "\n",
        "# 輸入 ngrok authtoken\n",
        "auth_token = getpass(\"請輸入你的 ngrok authtoken：\")\n",
        "conf.get_default().auth_token = auth_token\n",
        "\n",
        "# 開啟 5080 埠的 ngrok 隧道\n",
        "public_url = ngrok.connect(5080)\n",
        "print(f\"\\u2728 Ngrok 公開網址: {public_url}\")\n",
        "\n",
        "# 建立 Flask + Local Ollama 服務\n",
        "from flask import Flask, request, jsonify, render_template_string\n",
        "from openai import OpenAI\n",
        "import threading\n",
        "import os\n",
        "import logging\n",
        "\n",
        "# 初始化 Flask\n",
        "app = Flask(__name__)\n",
        "\n",
        "# 設置日誌\n",
        "logging.basicConfig(level=logging.DEBUG)\n",
        "\n",
        "# 連接本地 Ollama API\n",
        "client = OpenAI(\n",
        "    base_url=\"http://localhost:11434/v1\",  # 本地 Ollama 服務\n",
        "    api_key=\"test-key\"  # 隨便填\n",
        ")\n",
        "\n",
        "# 模型名稱\n",
        "model = \"gemma3:4b\"\n",
        "\n",
        "# 對話記憶\n",
        "conversation_memory = []\n",
        "\n",
        "# HTML 模板\n",
        "html_template = f\"\"\"\n",
        "<!DOCTYPE html>\n",
        "<html lang=\"zh-Hant\">\n",
        "<head>\n",
        "    <meta charset=\"UTF-8\">\n",
        "    <meta name=\"viewport\" content=\"width=device-width, initial-scale=1.0\">\n",
        "    <title>Ollama Chatbot</title>\n",
        "    <style>\n",
        "        body {{ font-family: Arial, sans-serif; padding: 20px; }}\n",
        "        .chat-box {{ width: 100%; max-width: 600px; margin: auto; }}\n",
        "        .messages {{ border: 1px solid #ccc; padding: 10px; height: 400px; overflow-y: scroll; }}\n",
        "        .input-box {{ display: flex; margin-top: 10px; }}\n",
        "        input[type='text'] {{ flex: 1; padding: 10px; }}\n",
        "        button {{ padding: 10px; background: green; color: white; border: none; cursor: pointer; }}\n",
        "    </style>\n",
        "    <script src=\"https://cdn.jsdelivr.net/npm/marked/marked.min.js\"></script>\n",
        "</head>\n",
        "<body>\n",
        "    <div class=\"chat-box\">\n",
        "        <h2>Ollama Chatbot ({model})</h2>\n",
        "        <div class=\"messages\" id=\"messages\"></div>\n",
        "        <div class=\"input-box\">\n",
        "            <input type=\"text\" id=\"userMessage\" placeholder=\"輸入訊息...\" onkeydown=\"handleKeyPress(event)\">\n",
        "            <button onclick=\"sendMessage()\">送出</button>\n",
        "        </div>\n",
        "    </div>\n",
        "<script>\n",
        "function appendMessage(role, content) {{\n",
        "    const messages = document.getElementById('messages');\n",
        "    const div = document.createElement('div');\n",
        "    div.innerHTML = '<b>' + role + ':</b> ' + marked.parse(content);\n",
        "    messages.appendChild(div);\n",
        "    messages.scrollTop = messages.scrollHeight;\n",
        "}}\n",
        "\n",
        "function sendMessage() {{\n",
        "    const userMessage = document.getElementById('userMessage').value;\n",
        "    if (!userMessage.trim()) return;\n",
        "    appendMessage('User', userMessage);\n",
        "    document.getElementById('userMessage').value = '';\n",
        "    fetch('/chat', {{\n",
        "        method: 'POST',\n",
        "        headers: {{ 'Content-Type': 'application/json' }},\n",
        "        body: JSON.stringify({{message: userMessage}})\n",
        "    }}).then(response => response.json())\n",
        "      .then(data => appendMessage('Assistant', data.reply))\n",
        "      .catch(error => console.error('錯誤:', error));\n",
        "}}\n",
        "\n",
        "function handleKeyPress(event) {{\n",
        "    if (event.key === 'Enter') {{\n",
        "        sendMessage();\n",
        "    }}\n",
        "}}\n",
        "</script>\n",
        "</body>\n",
        "</html>\n",
        "\"\"\"\n",
        "\n",
        "# 首頁\n",
        "@app.route('/')\n",
        "def index():\n",
        "    return render_template_string(html_template)\n",
        "\n",
        "# 對話 API\n",
        "@app.route('/chat', methods=['POST'])\n",
        "def chat():\n",
        "    data = request.get_json()\n",
        "    user_message = data.get('message', '')\n",
        "    if not user_message:\n",
        "        return jsonify({\"reply\": \"Error: no input message.\"})\n",
        "\n",
        "    conversation_memory.append({\"role\": \"user\", \"content\": user_message})\n",
        "\n",
        "    try:\n",
        "        response = client.chat.completions.create(\n",
        "            model=model,\n",
        "            messages=[\n",
        "                {\"role\": \"system\", \"content\": \"總是用繁體中文回答。\"},\n",
        "                *conversation_memory\n",
        "            ]\n",
        "        )\n",
        "        reply = response.choices[0].message.content\n",
        "        conversation_memory.append({\"role\": \"assistant\", \"content\": reply})\n",
        "        return jsonify({\"reply\": reply})\n",
        "    except Exception as e:\n",
        "        return jsonify({\"reply\": f\"Error: {str(e)}\"})\n",
        "\n",
        "# 啟動 Flask\n",
        "app.run(host='0.0.0.0', port=5080)"
      ],
      "metadata": {
        "colab": {
          "base_uri": "https://localhost:8080/"
        },
        "id": "dYDhZeGM2fyH",
        "outputId": "6205f281-9120-4675-ffdc-56511d950395"
      },
      "execution_count": null,
      "outputs": [
        {
          "output_type": "stream",
          "name": "stdout",
          "text": [
            "請輸入你的 ngrok authtoken：··········\n",
            "✨ Ngrok 公開網址: NgrokTunnel: \"https://f8fa-34-143-217-146.ngrok-free.app\" -> \"http://localhost:5080\"\n",
            " * Serving Flask app '__main__'\n",
            " * Debug mode: off\n"
          ]
        },
        {
          "output_type": "stream",
          "name": "stderr",
          "text": [
            "INFO:werkzeug:\u001b[31m\u001b[1mWARNING: This is a development server. Do not use it in a production deployment. Use a production WSGI server instead.\u001b[0m\n",
            " * Running on all addresses (0.0.0.0)\n",
            " * Running on http://127.0.0.1:5080\n",
            " * Running on http://172.28.0.12:5080\n",
            "INFO:werkzeug:\u001b[33mPress CTRL+C to quit\u001b[0m\n",
            "WARNING:pyngrok.process.ngrok:t=2025-04-12T11:58:12+0000 lvl=warn msg=\"failed to check for update\" obj=updater err=\"Post \\\"https://update.equinox.io/check\\\": context deadline exceeded\"\n",
            "INFO:werkzeug:127.0.0.1 - - [12/Apr/2025 11:58:20] \"GET / HTTP/1.1\" 200 -\n",
            "INFO:werkzeug:127.0.0.1 - - [12/Apr/2025 11:58:20] \"\u001b[33mGET /favicon.ico HTTP/1.1\u001b[0m\" 404 -\n",
            "INFO:werkzeug:127.0.0.1 - - [12/Apr/2025 11:58:37] \"POST /chat HTTP/1.1\" 200 -\n",
            "INFO:werkzeug:127.0.0.1 - - [12/Apr/2025 11:58:37] \"POST /chat HTTP/1.1\" 200 -\n",
            "INFO:werkzeug:127.0.0.1 - - [12/Apr/2025 11:58:49] \"POST /chat HTTP/1.1\" 200 -\n",
            "INFO:werkzeug:127.0.0.1 - - [12/Apr/2025 11:59:42] \"POST /chat HTTP/1.1\" 200 -\n",
            "INFO:werkzeug:127.0.0.1 - - [12/Apr/2025 11:59:45] \"POST /chat HTTP/1.1\" 200 -\n",
            "INFO:werkzeug:127.0.0.1 - - [12/Apr/2025 12:00:20] \"POST /chat HTTP/1.1\" 200 -\n",
            "INFO:werkzeug:127.0.0.1 - - [12/Apr/2025 12:00:50] \"POST /chat HTTP/1.1\" 200 -\n"
          ]
        }
      ]
    }
  ]
}