{
  "nbformat": 4,
  "nbformat_minor": 0,
  "metadata": {
    "colab": {
      "provenance": [],
      "gpuType": "T4",
      "authorship_tag": "ABX9TyO1R75H/e6dZ8YMZ8NLTukm",
      "include_colab_link": true
    },
    "kernelspec": {
      "name": "python3",
      "display_name": "Python 3"
    },
    "language_info": {
      "name": "python"
    },
    "accelerator": "GPU"
  },
  "cells": [
    {
      "cell_type": "markdown",
      "metadata": {
        "id": "view-in-github",
        "colab_type": "text"
      },
      "source": [
        "<a href=\"https://colab.research.google.com/github/PatrickRuan/AI_2025/blob/main/9_HuggingFaceModel_diffusion.ipynb\" target=\"_parent\"><img src=\"https://colab.research.google.com/assets/colab-badge.svg\" alt=\"Open In Colab\"/></a>"
      ]
    },
    {
      "cell_type": "code",
      "execution_count": null,
      "metadata": {
        "id": "2W73z8xjd1n-"
      },
      "outputs": [],
      "source": [
        "!pip install diffusers transformers accelerate safetensors\n",
        "from diffusers import StableDiffusionPipeline\n",
        "import torch"
      ]
    },
    {
      "cell_type": "code",
      "source": [
        "pipe = StableDiffusionPipeline.from_pretrained(\n",
        "    \"runwayml/stable-diffusion-v1-5\", torch_dtype=torch.float16\n",
        ").to(\"cuda\")"
      ],
      "metadata": {
        "id": "EYKnKpwMmFrJ"
      },
      "execution_count": null,
      "outputs": []
    },
    {
      "cell_type": "code",
      "source": [
        "prompt = \"a high-resolution photo of an industrial assembly line with subtle defects\"\n",
        "image = pipe(prompt, guidance_scale=7.5).images[0]\n",
        "image.save(\"output.png\")"
      ],
      "metadata": {
        "id": "PRfmED0egFLl"
      },
      "execution_count": null,
      "outputs": []
    },
    {
      "cell_type": "code",
      "source": [
        "prompt = \"一隻小狗在簡單風格的賣場\"\n",
        "image = pipe(prompt, guidance_scale=7.5).images[0]\n",
        "image.save(\"dog.png\")"
      ],
      "metadata": {
        "id": "xnnENvnfhLuN"
      },
      "execution_count": null,
      "outputs": []
    },
    {
      "cell_type": "code",
      "source": [
        "prompt = \"A puppy in a store with a simple style.\"\n",
        "image = pipe(prompt, guidance_scale=7.5).images[0]\n",
        "image.save(\"dog_e.png\")"
      ],
      "metadata": {
        "id": "gB3QvLZcgFwT"
      },
      "execution_count": null,
      "outputs": []
    }
  ]
}