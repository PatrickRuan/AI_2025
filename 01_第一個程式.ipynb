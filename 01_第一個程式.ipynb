{
  "nbformat": 4,
  "nbformat_minor": 0,
  "metadata": {
    "colab": {
      "provenance": [],
      "authorship_tag": "ABX9TyPBLsGspMruyCb2OHxhQ5gL",
      "include_colab_link": true
    },
    "kernelspec": {
      "name": "python3",
      "display_name": "Python 3"
    },
    "language_info": {
      "name": "python"
    }
  },
  "cells": [
    {
      "cell_type": "markdown",
      "metadata": {
        "id": "view-in-github",
        "colab_type": "text"
      },
      "source": [
        "<a href=\"https://colab.research.google.com/github/PatrickRuan/AI_2025/blob/main/1_%E7%AC%AC%E4%B8%80%E5%80%8B%E7%A8%8B%E5%BC%8F.ipynb\" target=\"_parent\"><img src=\"https://colab.research.google.com/assets/colab-badge.svg\" alt=\"Open In Colab\"/></a>"
      ]
    },
    {
      "cell_type": "code",
      "execution_count": null,
      "metadata": {
        "colab": {
          "base_uri": "https://localhost:8080/"
        },
        "id": "3QJyVLxcafWn",
        "outputId": "783fb3b5-77ca-4c10-f706-12c430c1048f"
      },
      "outputs": [
        {
          "output_type": "stream",
          "name": "stdout",
          "text": [
            "請輸入您的密碼：2222\n",
            "密碼錯誤\n",
            "請輸入您的密碼：1233\n",
            "密碼錯誤\n",
            "請輸入您的密碼：1234\n",
            "密碼正確\n"
          ]
        }
      ],
      "source": [
        "PASSWORD = int(1234)\n",
        "password = int(input('請輸入您的密碼：'))\n",
        "n = 0\n",
        "while n < 3:\n",
        "  if password == PASSWORD:\n",
        "    print('密碼正確')\n",
        "    break\n",
        "  else:\n",
        "    print('密碼錯誤')\n",
        "    password = int(input('請輸入您的密碼：'))\n",
        "    n += 1\n"
      ]
    }
  ]
}
